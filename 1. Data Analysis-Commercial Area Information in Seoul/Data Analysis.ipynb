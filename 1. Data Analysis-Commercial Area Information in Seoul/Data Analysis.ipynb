{
 "cells": [
  {
   "cell_type": "markdown",
   "metadata": {},
   "source": [
    "# 서울시 상권정보 분석"
   ]
  },
  {
   "cell_type": "markdown",
   "metadata": {},
   "source": [
    "## 필요한 라이브러리 불러오기"
   ]
  },
  {
   "cell_type": "code",
   "execution_count": 14,
   "metadata": {
    "ExecuteTime": {
     "end_time": "2021-02-23T06:28:38.919966Z",
     "start_time": "2021-02-23T06:28:38.915976Z"
    }
   },
   "outputs": [],
   "source": [
    "import pandas as pd\n",
    "# 수치계산 \n",
    "import numpy as np\n",
    "# 시각화\n",
    "import seaborn as sns"
   ]
  },
  {
   "cell_type": "markdown",
   "metadata": {},
   "source": [
    "## 시각화를 위한 폰트 설정"
   ]
  },
  {
   "cell_type": "code",
   "execution_count": 15,
   "metadata": {
    "ExecuteTime": {
     "end_time": "2021-02-23T06:28:40.817944Z",
     "start_time": "2021-02-23T06:28:40.804948Z"
    }
   },
   "outputs": [],
   "source": [
    "import matplotlib.pyplot as plt\n",
    "\n",
    "# Windows 한글 폰트 설정\n",
    "plt.rc('font', family='Malgun Gothic')\n",
    "# Mac 한글 폰트 설정\n",
    "# plt.rc('font', family='AppleGothic')\n",
    "\n",
    "# 한글 폰트 사용시 마이너스 폰트 깨짐 방지\n",
    "plt.rc('axes', unicode_minus=False)\n",
    "\n",
    "# 그래프가 노트북 안에 보이게 하기 위해\n",
    "%matplotlib inline"
   ]
  },
  {
   "cell_type": "code",
   "execution_count": 16,
   "metadata": {
    "ExecuteTime": {
     "end_time": "2021-02-23T06:28:42.616849Z",
     "start_time": "2021-02-23T06:28:42.604906Z"
    }
   },
   "outputs": [],
   "source": [
    "from IPython.display import set_matplotlib_formats\n",
    "# 폰트가 선명하게 보이기 위해\n",
    "set_matplotlib_formats('retina')"
   ]
  },
  {
   "cell_type": "markdown",
   "metadata": {},
   "source": [
    "## 데이터 로드하기"
   ]
  },
  {
   "cell_type": "code",
   "execution_count": 17,
   "metadata": {
    "ExecuteTime": {
     "end_time": "2021-02-23T06:28:45.492818Z",
     "start_time": "2021-02-23T06:28:44.659672Z"
    }
   },
   "outputs": [
    {
     "data": {
      "text/plain": [
       "(91335, 39)"
      ]
     },
     "execution_count": 17,
     "metadata": {},
     "output_type": "execute_result"
    }
   ],
   "source": [
    "df = pd.read_csv(\"의료기관.csv\", low_memory=False)\n",
    "df.shape"
   ]
  },
  {
   "cell_type": "markdown",
   "metadata": {},
   "source": [
    "## 데이터 미리보기"
   ]
  },
  {
   "cell_type": "code",
   "execution_count": 18,
   "metadata": {
    "ExecuteTime": {
     "end_time": "2021-02-23T06:28:47.497844Z",
     "start_time": "2021-02-23T06:28:47.468923Z"
    }
   },
   "outputs": [
    {
     "data": {
      "text/html": [
       "<div>\n",
       "<style scoped>\n",
       "    .dataframe tbody tr th:only-of-type {\n",
       "        vertical-align: middle;\n",
       "    }\n",
       "\n",
       "    .dataframe tbody tr th {\n",
       "        vertical-align: top;\n",
       "    }\n",
       "\n",
       "    .dataframe thead th {\n",
       "        text-align: right;\n",
       "    }\n",
       "</style>\n",
       "<table border=\"1\" class=\"dataframe\">\n",
       "  <thead>\n",
       "    <tr style=\"text-align: right;\">\n",
       "      <th></th>\n",
       "      <th>상가업소번호</th>\n",
       "      <th>상호명</th>\n",
       "      <th>지점명</th>\n",
       "      <th>상권업종대분류코드</th>\n",
       "      <th>상권업종대분류명</th>\n",
       "      <th>상권업종중분류코드</th>\n",
       "      <th>상권업종중분류명</th>\n",
       "      <th>상권업종소분류코드</th>\n",
       "      <th>상권업종소분류명</th>\n",
       "      <th>표준산업분류코드</th>\n",
       "      <th>...</th>\n",
       "      <th>건물관리번호</th>\n",
       "      <th>건물명</th>\n",
       "      <th>도로명주소</th>\n",
       "      <th>구우편번호</th>\n",
       "      <th>신우편번호</th>\n",
       "      <th>동정보</th>\n",
       "      <th>층정보</th>\n",
       "      <th>호정보</th>\n",
       "      <th>경도</th>\n",
       "      <th>위도</th>\n",
       "    </tr>\n",
       "  </thead>\n",
       "  <tbody>\n",
       "    <tr>\n",
       "      <th>0</th>\n",
       "      <td>19956873</td>\n",
       "      <td>하나산부인과</td>\n",
       "      <td>NaN</td>\n",
       "      <td>S</td>\n",
       "      <td>의료</td>\n",
       "      <td>S01</td>\n",
       "      <td>병원</td>\n",
       "      <td>S01B10</td>\n",
       "      <td>산부인과</td>\n",
       "      <td>Q86201</td>\n",
       "      <td>...</td>\n",
       "      <td>4127310900110810000010857</td>\n",
       "      <td>산호한양아파트</td>\n",
       "      <td>경기도 안산시 단원구 달미로 10</td>\n",
       "      <td>425764.0</td>\n",
       "      <td>15236.0</td>\n",
       "      <td>NaN</td>\n",
       "      <td>NaN</td>\n",
       "      <td>NaN</td>\n",
       "      <td>126.814295</td>\n",
       "      <td>37.336344</td>\n",
       "    </tr>\n",
       "  </tbody>\n",
       "</table>\n",
       "<p>1 rows × 39 columns</p>\n",
       "</div>"
      ],
      "text/plain": [
       "     상가업소번호     상호명  지점명 상권업종대분류코드 상권업종대분류명 상권업종중분류코드 상권업종중분류명 상권업종소분류코드  \\\n",
       "0  19956873  하나산부인과  NaN         S       의료       S01       병원    S01B10   \n",
       "\n",
       "  상권업종소분류명 표준산업분류코드  ...                     건물관리번호      건물명  \\\n",
       "0     산부인과   Q86201  ...  4127310900110810000010857  산호한양아파트   \n",
       "\n",
       "                도로명주소     구우편번호    신우편번호  동정보  층정보  호정보          경도         위도  \n",
       "0  경기도 안산시 단원구 달미로 10  425764.0  15236.0  NaN  NaN  NaN  126.814295  37.336344  \n",
       "\n",
       "[1 rows x 39 columns]"
      ]
     },
     "execution_count": 18,
     "metadata": {},
     "output_type": "execute_result"
    }
   ],
   "source": [
    "# shift + tab 키를 누르면 docstring(공식문서)를 볼 수 있습니다.\n",
    "#  head 로 데이터를 미리보기 합니다. \n",
    "df.head(1)"
   ]
  },
  {
   "cell_type": "code",
   "execution_count": 19,
   "metadata": {
    "ExecuteTime": {
     "end_time": "2021-02-23T06:28:50.017615Z",
     "start_time": "2021-02-23T06:28:49.981711Z"
    }
   },
   "outputs": [
    {
     "data": {
      "text/html": [
       "<div>\n",
       "<style scoped>\n",
       "    .dataframe tbody tr th:only-of-type {\n",
       "        vertical-align: middle;\n",
       "    }\n",
       "\n",
       "    .dataframe tbody tr th {\n",
       "        vertical-align: top;\n",
       "    }\n",
       "\n",
       "    .dataframe thead th {\n",
       "        text-align: right;\n",
       "    }\n",
       "</style>\n",
       "<table border=\"1\" class=\"dataframe\">\n",
       "  <thead>\n",
       "    <tr style=\"text-align: right;\">\n",
       "      <th></th>\n",
       "      <th>상가업소번호</th>\n",
       "      <th>상호명</th>\n",
       "      <th>지점명</th>\n",
       "      <th>상권업종대분류코드</th>\n",
       "      <th>상권업종대분류명</th>\n",
       "      <th>상권업종중분류코드</th>\n",
       "      <th>상권업종중분류명</th>\n",
       "      <th>상권업종소분류코드</th>\n",
       "      <th>상권업종소분류명</th>\n",
       "      <th>표준산업분류코드</th>\n",
       "      <th>...</th>\n",
       "      <th>건물관리번호</th>\n",
       "      <th>건물명</th>\n",
       "      <th>도로명주소</th>\n",
       "      <th>구우편번호</th>\n",
       "      <th>신우편번호</th>\n",
       "      <th>동정보</th>\n",
       "      <th>층정보</th>\n",
       "      <th>호정보</th>\n",
       "      <th>경도</th>\n",
       "      <th>위도</th>\n",
       "    </tr>\n",
       "  </thead>\n",
       "  <tbody>\n",
       "    <tr>\n",
       "      <th>91334</th>\n",
       "      <td>16109073</td>\n",
       "      <td>천안김안과천안역본점의원</td>\n",
       "      <td>NaN</td>\n",
       "      <td>S</td>\n",
       "      <td>의료</td>\n",
       "      <td>S01</td>\n",
       "      <td>병원</td>\n",
       "      <td>S01B13</td>\n",
       "      <td>안과의원</td>\n",
       "      <td>Q86201</td>\n",
       "      <td>...</td>\n",
       "      <td>4413110700102660017016314</td>\n",
       "      <td>김안과</td>\n",
       "      <td>충청남도 천안시 동남구 중앙로 92</td>\n",
       "      <td>330952.0</td>\n",
       "      <td>31127.0</td>\n",
       "      <td>NaN</td>\n",
       "      <td>NaN</td>\n",
       "      <td>NaN</td>\n",
       "      <td>127.152651</td>\n",
       "      <td>36.80664</td>\n",
       "    </tr>\n",
       "  </tbody>\n",
       "</table>\n",
       "<p>1 rows × 39 columns</p>\n",
       "</div>"
      ],
      "text/plain": [
       "         상가업소번호           상호명  지점명 상권업종대분류코드 상권업종대분류명 상권업종중분류코드 상권업종중분류명  \\\n",
       "91334  16109073  천안김안과천안역본점의원  NaN         S       의료       S01       병원   \n",
       "\n",
       "      상권업종소분류코드 상권업종소분류명 표준산업분류코드  ...                     건물관리번호  건물명  \\\n",
       "91334    S01B13     안과의원   Q86201  ...  4413110700102660017016314  김안과   \n",
       "\n",
       "                     도로명주소     구우편번호    신우편번호  동정보  층정보  호정보          경도  \\\n",
       "91334  충청남도 천안시 동남구 중앙로 92  330952.0  31127.0  NaN  NaN  NaN  127.152651   \n",
       "\n",
       "             위도  \n",
       "91334  36.80664  \n",
       "\n",
       "[1 rows x 39 columns]"
      ]
     },
     "execution_count": 19,
     "metadata": {},
     "output_type": "execute_result"
    }
   ],
   "source": [
    "# tail 로 마지감 부분에 있는 데이터를 불러옵니다\n",
    "df.tail(1)"
   ]
  },
  {
   "cell_type": "code",
   "execution_count": 20,
   "metadata": {
    "ExecuteTime": {
     "end_time": "2021-02-23T06:28:51.976537Z",
     "start_time": "2021-02-23T06:28:51.900740Z"
    }
   },
   "outputs": [
    {
     "data": {
      "text/plain": [
       "<bound method NDFrame.sample of          상가업소번호           상호명   지점명 상권업종대분류코드 상권업종대분류명 상권업종중분류코드  상권업종중분류명  \\\n",
       "0      19956873        하나산부인과   NaN         S       의료       S01        병원   \n",
       "1      20024149      타워광명내과의원   NaN         S       의료       S01        병원   \n",
       "2      20152277     조정현신경외과의원   NaN         S       의료       S01        병원   \n",
       "3      20350610      한귀원정신과의원   NaN         S       의료       S01        병원   \n",
       "4      20364049     더블유스토어수지점   수지점         S       의료       S02    약국/한약방   \n",
       "...         ...           ...   ...       ...      ...       ...       ...   \n",
       "91330  16196725         온누리약국   베스트         S       의료       S02    약국/한약방   \n",
       "91331  16192180            리원  봄산후조         S       의료       S07  의료관련서비스업   \n",
       "91332  16127538       참좋은요양병원   NaN         S       의료       S01        병원   \n",
       "91333  16108681       경희중앙한의원   NaN         S       의료       S01        병원   \n",
       "91334  16109073  천안김안과천안역본점의원   NaN         S       의료       S01        병원   \n",
       "\n",
       "      상권업종소분류코드 상권업종소분류명 표준산업분류코드  ...                     건물관리번호      건물명  \\\n",
       "0        S01B10     산부인과   Q86201  ...  4127310900110810000010857  산호한양아파트   \n",
       "1        S01B07    내과/외과   Q86201  ...  1168011800104670014000001      NaN   \n",
       "2        S01B15     신경외과   Q86201  ...  4139013200117400001017064    한라프라자   \n",
       "3        S01B99     기타병원      NaN  ...  2650010400100740001009932      NaN   \n",
       "4        S02A01       약국   G47811  ...  4146510100107120002026238      NaN   \n",
       "...         ...      ...      ...  ...                        ...      ...   \n",
       "91330    S02A01       약국   G47811  ...  3017011200115070000021096      NaN   \n",
       "91331    S07A07    산후조리원   S96993  ...  4128112300111460000011715    청한프라자   \n",
       "91332    S01B17  노인/치매병원   Q86102  ...  2641010800105380001005572    한신시티빌   \n",
       "91333    S01B06      한의원   Q86203  ...  1174010500103450009002392      NaN   \n",
       "91334    S01B13     안과의원   Q86201  ...  4413110700102660017016314      김안과   \n",
       "\n",
       "                     도로명주소     구우편번호    신우편번호  동정보  층정보  호정보          경도  \\\n",
       "0       경기도 안산시 단원구 달미로 10  425764.0  15236.0  NaN  NaN  NaN  126.814295   \n",
       "1      서울특별시 강남구 언주로30길 39  135270.0   6292.0  NaN    4  NaN  127.053198   \n",
       "2        경기도 시흥시 중심상가로 178  429450.0  15066.0  NaN  NaN  NaN  126.734841   \n",
       "3        부산광역시 수영구 수영로 688  613100.0  48266.0  NaN    5  NaN  129.115438   \n",
       "4       경기도 용인시 수지구 문정로 32  448170.0  16837.0  NaN    1  NaN  127.095522   \n",
       "...                    ...       ...      ...  ...  ...  ...         ...   \n",
       "91330      대전광역시 서구 문예로 67  302831.0  35240.0  NaN  NaN  NaN  127.389865   \n",
       "91331   경기도 고양시 덕양구 성신로 14  412827.0  10503.0  NaN  NaN  NaN  126.830144   \n",
       "91332    부산광역시 금정구 금강로 209  609841.0  46294.0  NaN    2  NaN  129.082790   \n",
       "91333    서울특별시 강동구 천중로 213  134811.0   5303.0  NaN  NaN  NaN  127.143958   \n",
       "91334  충청남도 천안시 동남구 중앙로 92  330952.0  31127.0  NaN  NaN  NaN  127.152651   \n",
       "\n",
       "              위도  \n",
       "0      37.336344  \n",
       "1      37.488742  \n",
       "2      37.344955  \n",
       "3      35.166872  \n",
       "4      37.323528  \n",
       "...          ...  \n",
       "91330  36.352728  \n",
       "91331  37.627530  \n",
       "91332  35.227138  \n",
       "91333  37.540993  \n",
       "91334  36.806640  \n",
       "\n",
       "[91335 rows x 39 columns]>"
      ]
     },
     "execution_count": 20,
     "metadata": {},
     "output_type": "execute_result"
    }
   ],
   "source": [
    "# sample 로 미리보기를 합니다 \n",
    "df.sample"
   ]
  },
  {
   "cell_type": "markdown",
   "metadata": {
    "ExecuteTime": {
     "end_time": "2021-02-22T01:31:33.567516Z",
     "start_time": "2021-02-22T01:31:33.561533Z"
    }
   },
   "source": [
    "## 데이터 요약하기"
   ]
  },
  {
   "cell_type": "markdown",
   "metadata": {},
   "source": [
    "### 요약정보"
   ]
  },
  {
   "cell_type": "code",
   "execution_count": 21,
   "metadata": {
    "ExecuteTime": {
     "end_time": "2021-02-23T06:28:55.213945Z",
     "start_time": "2021-02-23T06:28:55.116002Z"
    }
   },
   "outputs": [
    {
     "name": "stdout",
     "output_type": "stream",
     "text": [
      "<class 'pandas.core.frame.DataFrame'>\n",
      "RangeIndex: 91335 entries, 0 to 91334\n",
      "Data columns (total 39 columns):\n",
      " #   Column     Non-Null Count  Dtype  \n",
      "---  ------     --------------  -----  \n",
      " 0   상가업소번호     91335 non-null  int64  \n",
      " 1   상호명        91335 non-null  object \n",
      " 2   지점명        1346 non-null   object \n",
      " 3   상권업종대분류코드  91335 non-null  object \n",
      " 4   상권업종대분류명   91335 non-null  object \n",
      " 5   상권업종중분류코드  91335 non-null  object \n",
      " 6   상권업종중분류명   91335 non-null  object \n",
      " 7   상권업종소분류코드  91335 non-null  object \n",
      " 8   상권업종소분류명   91335 non-null  object \n",
      " 9   표준산업분류코드   86413 non-null  object \n",
      " 10  표준산업분류명    86413 non-null  object \n",
      " 11  시도코드       90956 non-null  float64\n",
      " 12  시도명        90956 non-null  object \n",
      " 13  시군구코드      90956 non-null  float64\n",
      " 14  시군구명       90956 non-null  object \n",
      " 15  행정동코드      91335 non-null  int64  \n",
      " 16  행정동명       90956 non-null  object \n",
      " 17  법정동코드      91280 non-null  float64\n",
      " 18  법정동명       91280 non-null  object \n",
      " 19  지번코드       91335 non-null  int64  \n",
      " 20  대지구분코드     91335 non-null  int64  \n",
      " 21  대지구분명      91335 non-null  object \n",
      " 22  지번본번지      91335 non-null  int64  \n",
      " 23  지번부번지      72079 non-null  float64\n",
      " 24  지번주소       91335 non-null  object \n",
      " 25  도로명코드      91335 non-null  int64  \n",
      " 26  도로명        91335 non-null  object \n",
      " 27  건물본번지      91335 non-null  int64  \n",
      " 28  건물부번지      10604 non-null  float64\n",
      " 29  건물관리번호     91335 non-null  object \n",
      " 30  건물명        46453 non-null  object \n",
      " 31  도로명주소      91335 non-null  object \n",
      " 32  구우편번호      91323 non-null  float64\n",
      " 33  신우편번호      91333 non-null  float64\n",
      " 34  동정보        7406 non-null   object \n",
      " 35  층정보        44044 non-null  object \n",
      " 36  호정보        15551 non-null  object \n",
      " 37  경도         91335 non-null  float64\n",
      " 38  위도         91335 non-null  float64\n",
      "dtypes: float64(9), int64(7), object(23)\n",
      "memory usage: 27.2+ MB\n"
     ]
    }
   ],
   "source": [
    "# infor로 데이터의 요약을 봅니다. (object : 문자)\n",
    "#  결측치 여부 확인 (Range Index로 확인)\n",
    "df.info()"
   ]
  },
  {
   "cell_type": "markdown",
   "metadata": {},
   "source": [
    "### 컬럼명 보기"
   ]
  },
  {
   "cell_type": "code",
   "execution_count": 22,
   "metadata": {
    "ExecuteTime": {
     "end_time": "2021-02-23T06:28:57.689969Z",
     "start_time": "2021-02-23T06:28:57.683986Z"
    }
   },
   "outputs": [
    {
     "data": {
      "text/plain": [
       "Index(['상가업소번호', '상호명', '지점명', '상권업종대분류코드', '상권업종대분류명', '상권업종중분류코드',\n",
       "       '상권업종중분류명', '상권업종소분류코드', '상권업종소분류명', '표준산업분류코드', '표준산업분류명', '시도코드',\n",
       "       '시도명', '시군구코드', '시군구명', '행정동코드', '행정동명', '법정동코드', '법정동명', '지번코드',\n",
       "       '대지구분코드', '대지구분명', '지번본번지', '지번부번지', '지번주소', '도로명코드', '도로명', '건물본번지',\n",
       "       '건물부번지', '건물관리번호', '건물명', '도로명주소', '구우편번호', '신우편번호', '동정보', '층정보',\n",
       "       '호정보', '경도', '위도'],\n",
       "      dtype='object')"
      ]
     },
     "execution_count": 22,
     "metadata": {},
     "output_type": "execute_result"
    }
   ],
   "source": [
    "# 컬럼명만 출력해 봅니다.\n",
    "df.columns"
   ]
  },
  {
   "cell_type": "markdown",
   "metadata": {},
   "source": [
    "### 데이터 타입"
   ]
  },
  {
   "cell_type": "code",
   "execution_count": 23,
   "metadata": {
    "ExecuteTime": {
     "end_time": "2021-02-23T06:28:59.567910Z",
     "start_time": "2021-02-23T06:28:59.556941Z"
    }
   },
   "outputs": [
    {
     "data": {
      "text/plain": [
       "상가업소번호         int64\n",
       "상호명           object\n",
       "지점명           object\n",
       "상권업종대분류코드     object\n",
       "상권업종대분류명      object\n",
       "상권업종중분류코드     object\n",
       "상권업종중분류명      object\n",
       "상권업종소분류코드     object\n",
       "상권업종소분류명      object\n",
       "표준산업분류코드      object\n",
       "표준산업분류명       object\n",
       "시도코드         float64\n",
       "시도명           object\n",
       "시군구코드        float64\n",
       "시군구명          object\n",
       "행정동코드          int64\n",
       "행정동명          object\n",
       "법정동코드        float64\n",
       "법정동명          object\n",
       "지번코드           int64\n",
       "대지구분코드         int64\n",
       "대지구분명         object\n",
       "지번본번지          int64\n",
       "지번부번지        float64\n",
       "지번주소          object\n",
       "도로명코드          int64\n",
       "도로명           object\n",
       "건물본번지          int64\n",
       "건물부번지        float64\n",
       "건물관리번호        object\n",
       "건물명           object\n",
       "도로명주소         object\n",
       "구우편번호        float64\n",
       "신우편번호        float64\n",
       "동정보           object\n",
       "층정보           object\n",
       "호정보           object\n",
       "경도           float64\n",
       "위도           float64\n",
       "dtype: object"
      ]
     },
     "execution_count": 23,
     "metadata": {},
     "output_type": "execute_result"
    }
   ],
   "source": [
    "#  데이터 타입만 출력합니다.\n",
    "df.dtypes"
   ]
  },
  {
   "cell_type": "markdown",
   "metadata": {},
   "source": [
    "## 결측치"
   ]
  },
  {
   "cell_type": "code",
   "execution_count": 24,
   "metadata": {
    "ExecuteTime": {
     "end_time": "2021-02-23T06:29:02.408469Z",
     "start_time": "2021-02-23T06:29:02.398524Z"
    }
   },
   "outputs": [
    {
     "data": {
      "text/plain": [
       "True"
      ]
     },
     "execution_count": 24,
     "metadata": {},
     "output_type": "execute_result"
    }
   ],
   "source": [
    "True == 1"
   ]
  },
  {
   "cell_type": "code",
   "execution_count": 25,
   "metadata": {
    "ExecuteTime": {
     "end_time": "2021-02-23T06:29:05.205058Z",
     "start_time": "2021-02-23T06:29:05.077018Z"
    }
   },
   "outputs": [
    {
     "data": {
      "text/html": [
       "<div>\n",
       "<style scoped>\n",
       "    .dataframe tbody tr th:only-of-type {\n",
       "        vertical-align: middle;\n",
       "    }\n",
       "\n",
       "    .dataframe tbody tr th {\n",
       "        vertical-align: top;\n",
       "    }\n",
       "\n",
       "    .dataframe thead th {\n",
       "        text-align: right;\n",
       "    }\n",
       "</style>\n",
       "<table border=\"1\" class=\"dataframe\">\n",
       "  <thead>\n",
       "    <tr style=\"text-align: right;\">\n",
       "      <th></th>\n",
       "      <th>상가업소번호</th>\n",
       "      <th>상호명</th>\n",
       "      <th>지점명</th>\n",
       "      <th>상권업종대분류코드</th>\n",
       "      <th>상권업종대분류명</th>\n",
       "      <th>상권업종중분류코드</th>\n",
       "      <th>상권업종중분류명</th>\n",
       "      <th>상권업종소분류코드</th>\n",
       "      <th>상권업종소분류명</th>\n",
       "      <th>표준산업분류코드</th>\n",
       "      <th>...</th>\n",
       "      <th>건물관리번호</th>\n",
       "      <th>건물명</th>\n",
       "      <th>도로명주소</th>\n",
       "      <th>구우편번호</th>\n",
       "      <th>신우편번호</th>\n",
       "      <th>동정보</th>\n",
       "      <th>층정보</th>\n",
       "      <th>호정보</th>\n",
       "      <th>경도</th>\n",
       "      <th>위도</th>\n",
       "    </tr>\n",
       "  </thead>\n",
       "  <tbody>\n",
       "    <tr>\n",
       "      <th>0</th>\n",
       "      <td>False</td>\n",
       "      <td>False</td>\n",
       "      <td>True</td>\n",
       "      <td>False</td>\n",
       "      <td>False</td>\n",
       "      <td>False</td>\n",
       "      <td>False</td>\n",
       "      <td>False</td>\n",
       "      <td>False</td>\n",
       "      <td>False</td>\n",
       "      <td>...</td>\n",
       "      <td>False</td>\n",
       "      <td>False</td>\n",
       "      <td>False</td>\n",
       "      <td>False</td>\n",
       "      <td>False</td>\n",
       "      <td>True</td>\n",
       "      <td>True</td>\n",
       "      <td>True</td>\n",
       "      <td>False</td>\n",
       "      <td>False</td>\n",
       "    </tr>\n",
       "    <tr>\n",
       "      <th>1</th>\n",
       "      <td>False</td>\n",
       "      <td>False</td>\n",
       "      <td>True</td>\n",
       "      <td>False</td>\n",
       "      <td>False</td>\n",
       "      <td>False</td>\n",
       "      <td>False</td>\n",
       "      <td>False</td>\n",
       "      <td>False</td>\n",
       "      <td>False</td>\n",
       "      <td>...</td>\n",
       "      <td>False</td>\n",
       "      <td>True</td>\n",
       "      <td>False</td>\n",
       "      <td>False</td>\n",
       "      <td>False</td>\n",
       "      <td>True</td>\n",
       "      <td>False</td>\n",
       "      <td>True</td>\n",
       "      <td>False</td>\n",
       "      <td>False</td>\n",
       "    </tr>\n",
       "    <tr>\n",
       "      <th>2</th>\n",
       "      <td>False</td>\n",
       "      <td>False</td>\n",
       "      <td>True</td>\n",
       "      <td>False</td>\n",
       "      <td>False</td>\n",
       "      <td>False</td>\n",
       "      <td>False</td>\n",
       "      <td>False</td>\n",
       "      <td>False</td>\n",
       "      <td>False</td>\n",
       "      <td>...</td>\n",
       "      <td>False</td>\n",
       "      <td>False</td>\n",
       "      <td>False</td>\n",
       "      <td>False</td>\n",
       "      <td>False</td>\n",
       "      <td>True</td>\n",
       "      <td>True</td>\n",
       "      <td>True</td>\n",
       "      <td>False</td>\n",
       "      <td>False</td>\n",
       "    </tr>\n",
       "    <tr>\n",
       "      <th>3</th>\n",
       "      <td>False</td>\n",
       "      <td>False</td>\n",
       "      <td>True</td>\n",
       "      <td>False</td>\n",
       "      <td>False</td>\n",
       "      <td>False</td>\n",
       "      <td>False</td>\n",
       "      <td>False</td>\n",
       "      <td>False</td>\n",
       "      <td>True</td>\n",
       "      <td>...</td>\n",
       "      <td>False</td>\n",
       "      <td>True</td>\n",
       "      <td>False</td>\n",
       "      <td>False</td>\n",
       "      <td>False</td>\n",
       "      <td>True</td>\n",
       "      <td>False</td>\n",
       "      <td>True</td>\n",
       "      <td>False</td>\n",
       "      <td>False</td>\n",
       "    </tr>\n",
       "    <tr>\n",
       "      <th>4</th>\n",
       "      <td>False</td>\n",
       "      <td>False</td>\n",
       "      <td>False</td>\n",
       "      <td>False</td>\n",
       "      <td>False</td>\n",
       "      <td>False</td>\n",
       "      <td>False</td>\n",
       "      <td>False</td>\n",
       "      <td>False</td>\n",
       "      <td>False</td>\n",
       "      <td>...</td>\n",
       "      <td>False</td>\n",
       "      <td>True</td>\n",
       "      <td>False</td>\n",
       "      <td>False</td>\n",
       "      <td>False</td>\n",
       "      <td>True</td>\n",
       "      <td>False</td>\n",
       "      <td>True</td>\n",
       "      <td>False</td>\n",
       "      <td>False</td>\n",
       "    </tr>\n",
       "    <tr>\n",
       "      <th>...</th>\n",
       "      <td>...</td>\n",
       "      <td>...</td>\n",
       "      <td>...</td>\n",
       "      <td>...</td>\n",
       "      <td>...</td>\n",
       "      <td>...</td>\n",
       "      <td>...</td>\n",
       "      <td>...</td>\n",
       "      <td>...</td>\n",
       "      <td>...</td>\n",
       "      <td>...</td>\n",
       "      <td>...</td>\n",
       "      <td>...</td>\n",
       "      <td>...</td>\n",
       "      <td>...</td>\n",
       "      <td>...</td>\n",
       "      <td>...</td>\n",
       "      <td>...</td>\n",
       "      <td>...</td>\n",
       "      <td>...</td>\n",
       "      <td>...</td>\n",
       "    </tr>\n",
       "    <tr>\n",
       "      <th>91330</th>\n",
       "      <td>False</td>\n",
       "      <td>False</td>\n",
       "      <td>False</td>\n",
       "      <td>False</td>\n",
       "      <td>False</td>\n",
       "      <td>False</td>\n",
       "      <td>False</td>\n",
       "      <td>False</td>\n",
       "      <td>False</td>\n",
       "      <td>False</td>\n",
       "      <td>...</td>\n",
       "      <td>False</td>\n",
       "      <td>True</td>\n",
       "      <td>False</td>\n",
       "      <td>False</td>\n",
       "      <td>False</td>\n",
       "      <td>True</td>\n",
       "      <td>True</td>\n",
       "      <td>True</td>\n",
       "      <td>False</td>\n",
       "      <td>False</td>\n",
       "    </tr>\n",
       "    <tr>\n",
       "      <th>91331</th>\n",
       "      <td>False</td>\n",
       "      <td>False</td>\n",
       "      <td>False</td>\n",
       "      <td>False</td>\n",
       "      <td>False</td>\n",
       "      <td>False</td>\n",
       "      <td>False</td>\n",
       "      <td>False</td>\n",
       "      <td>False</td>\n",
       "      <td>False</td>\n",
       "      <td>...</td>\n",
       "      <td>False</td>\n",
       "      <td>False</td>\n",
       "      <td>False</td>\n",
       "      <td>False</td>\n",
       "      <td>False</td>\n",
       "      <td>True</td>\n",
       "      <td>True</td>\n",
       "      <td>True</td>\n",
       "      <td>False</td>\n",
       "      <td>False</td>\n",
       "    </tr>\n",
       "    <tr>\n",
       "      <th>91332</th>\n",
       "      <td>False</td>\n",
       "      <td>False</td>\n",
       "      <td>True</td>\n",
       "      <td>False</td>\n",
       "      <td>False</td>\n",
       "      <td>False</td>\n",
       "      <td>False</td>\n",
       "      <td>False</td>\n",
       "      <td>False</td>\n",
       "      <td>False</td>\n",
       "      <td>...</td>\n",
       "      <td>False</td>\n",
       "      <td>False</td>\n",
       "      <td>False</td>\n",
       "      <td>False</td>\n",
       "      <td>False</td>\n",
       "      <td>True</td>\n",
       "      <td>False</td>\n",
       "      <td>True</td>\n",
       "      <td>False</td>\n",
       "      <td>False</td>\n",
       "    </tr>\n",
       "    <tr>\n",
       "      <th>91333</th>\n",
       "      <td>False</td>\n",
       "      <td>False</td>\n",
       "      <td>True</td>\n",
       "      <td>False</td>\n",
       "      <td>False</td>\n",
       "      <td>False</td>\n",
       "      <td>False</td>\n",
       "      <td>False</td>\n",
       "      <td>False</td>\n",
       "      <td>False</td>\n",
       "      <td>...</td>\n",
       "      <td>False</td>\n",
       "      <td>True</td>\n",
       "      <td>False</td>\n",
       "      <td>False</td>\n",
       "      <td>False</td>\n",
       "      <td>True</td>\n",
       "      <td>True</td>\n",
       "      <td>True</td>\n",
       "      <td>False</td>\n",
       "      <td>False</td>\n",
       "    </tr>\n",
       "    <tr>\n",
       "      <th>91334</th>\n",
       "      <td>False</td>\n",
       "      <td>False</td>\n",
       "      <td>True</td>\n",
       "      <td>False</td>\n",
       "      <td>False</td>\n",
       "      <td>False</td>\n",
       "      <td>False</td>\n",
       "      <td>False</td>\n",
       "      <td>False</td>\n",
       "      <td>False</td>\n",
       "      <td>...</td>\n",
       "      <td>False</td>\n",
       "      <td>False</td>\n",
       "      <td>False</td>\n",
       "      <td>False</td>\n",
       "      <td>False</td>\n",
       "      <td>True</td>\n",
       "      <td>True</td>\n",
       "      <td>True</td>\n",
       "      <td>False</td>\n",
       "      <td>False</td>\n",
       "    </tr>\n",
       "  </tbody>\n",
       "</table>\n",
       "<p>91335 rows × 39 columns</p>\n",
       "</div>"
      ],
      "text/plain": [
       "       상가업소번호    상호명    지점명  상권업종대분류코드  상권업종대분류명  상권업종중분류코드  상권업종중분류명  \\\n",
       "0       False  False   True      False     False      False     False   \n",
       "1       False  False   True      False     False      False     False   \n",
       "2       False  False   True      False     False      False     False   \n",
       "3       False  False   True      False     False      False     False   \n",
       "4       False  False  False      False     False      False     False   \n",
       "...       ...    ...    ...        ...       ...        ...       ...   \n",
       "91330   False  False  False      False     False      False     False   \n",
       "91331   False  False  False      False     False      False     False   \n",
       "91332   False  False   True      False     False      False     False   \n",
       "91333   False  False   True      False     False      False     False   \n",
       "91334   False  False   True      False     False      False     False   \n",
       "\n",
       "       상권업종소분류코드  상권업종소분류명  표준산업분류코드  ...  건물관리번호    건물명  도로명주소  구우편번호  신우편번호  \\\n",
       "0          False     False     False  ...   False  False  False  False  False   \n",
       "1          False     False     False  ...   False   True  False  False  False   \n",
       "2          False     False     False  ...   False  False  False  False  False   \n",
       "3          False     False      True  ...   False   True  False  False  False   \n",
       "4          False     False     False  ...   False   True  False  False  False   \n",
       "...          ...       ...       ...  ...     ...    ...    ...    ...    ...   \n",
       "91330      False     False     False  ...   False   True  False  False  False   \n",
       "91331      False     False     False  ...   False  False  False  False  False   \n",
       "91332      False     False     False  ...   False  False  False  False  False   \n",
       "91333      False     False     False  ...   False   True  False  False  False   \n",
       "91334      False     False     False  ...   False  False  False  False  False   \n",
       "\n",
       "        동정보    층정보   호정보     경도     위도  \n",
       "0      True   True  True  False  False  \n",
       "1      True  False  True  False  False  \n",
       "2      True   True  True  False  False  \n",
       "3      True  False  True  False  False  \n",
       "4      True  False  True  False  False  \n",
       "...     ...    ...   ...    ...    ...  \n",
       "91330  True   True  True  False  False  \n",
       "91331  True   True  True  False  False  \n",
       "91332  True  False  True  False  False  \n",
       "91333  True   True  True  False  False  \n",
       "91334  True   True  True  False  False  \n",
       "\n",
       "[91335 rows x 39 columns]"
      ]
     },
     "execution_count": 25,
     "metadata": {},
     "output_type": "execute_result"
    }
   ],
   "source": [
    "df.isnull()"
   ]
  },
  {
   "cell_type": "code",
   "execution_count": 26,
   "metadata": {
    "ExecuteTime": {
     "end_time": "2021-02-23T06:29:07.182509Z",
     "start_time": "2021-02-23T06:29:07.076172Z"
    }
   },
   "outputs": [
    {
     "data": {
      "text/plain": [
       "상가업소번호           0\n",
       "상호명              0\n",
       "지점명          89989\n",
       "상권업종대분류코드        0\n",
       "상권업종대분류명         0\n",
       "상권업종중분류코드        0\n",
       "상권업종중분류명         0\n",
       "상권업종소분류코드        0\n",
       "상권업종소분류명         0\n",
       "표준산업분류코드      4922\n",
       "표준산업분류명       4922\n",
       "시도코드           379\n",
       "시도명            379\n",
       "시군구코드          379\n",
       "시군구명           379\n",
       "행정동코드            0\n",
       "행정동명           379\n",
       "법정동코드           55\n",
       "법정동명            55\n",
       "지번코드             0\n",
       "대지구분코드           0\n",
       "대지구분명            0\n",
       "지번본번지            0\n",
       "지번부번지        19256\n",
       "지번주소             0\n",
       "도로명코드            0\n",
       "도로명              0\n",
       "건물본번지            0\n",
       "건물부번지        80731\n",
       "건물관리번호           0\n",
       "건물명          44882\n",
       "도로명주소            0\n",
       "구우편번호           12\n",
       "신우편번호            2\n",
       "동정보          83929\n",
       "층정보          47291\n",
       "호정보          75784\n",
       "경도               0\n",
       "위도               0\n",
       "dtype: int64"
      ]
     },
     "execution_count": 26,
     "metadata": {},
     "output_type": "execute_result"
    }
   ],
   "source": [
    "null_count = df.isnull().sum()\n",
    "null_count"
   ]
  },
  {
   "cell_type": "code",
   "execution_count": 27,
   "metadata": {
    "ExecuteTime": {
     "end_time": "2021-02-23T06:29:11.600728Z",
     "start_time": "2021-02-23T06:29:10.180982Z"
    }
   },
   "outputs": [
    {
     "data": {
      "text/plain": [
       "<AxesSubplot:>"
      ]
     },
     "execution_count": 27,
     "metadata": {},
     "output_type": "execute_result"
    },
    {
     "data": {
      "image/png": "[encoded data removed]",
      "text/plain": [
       "<Figure size 432x288 with 1 Axes>"
      ]
     },
     "metadata": {
      "image/png": {
       "height": 304,
       "width": 390
      },
      "needs_background": "light"
     },
     "output_type": "display_data"
    }
   ],
   "source": [
    "#  위에서 구한 결측치를 .plot.bar 를 통해 막대그래프로 표현합니다. (rot는 X 좌표 회전)\n",
    "null_count.plot.bar(rot=40)"
   ]
  },
  {
   "cell_type": "code",
   "execution_count": 28,
   "metadata": {
    "ExecuteTime": {
     "end_time": "2021-02-23T06:29:14.579737Z",
     "start_time": "2021-02-23T06:29:14.107999Z"
    }
   },
   "outputs": [
    {
     "data": {
      "text/plain": [
       "<AxesSubplot:>"
      ]
     },
     "execution_count": 28,
     "metadata": {},
     "output_type": "execute_result"
    },
    {
     "data": {
      "image/png": "[encoded data removed]",
      "text/plain": [
       "<Figure size 360x504 with 1 Axes>"
      ]
     },
     "metadata": {
      "image/png": {
       "height": 412,
       "width": 390
      },
      "needs_background": "light"
     },
     "output_type": "display_data"
    }
   ],
   "source": [
    "null_count.plot.barh(figsize=(5,7))"
   ]
  },
  {
   "cell_type": "code",
   "execution_count": 29,
   "metadata": {
    "ExecuteTime": {
     "end_time": "2021-02-23T06:29:17.229862Z",
     "start_time": "2021-02-23T06:29:17.188971Z"
    }
   },
   "outputs": [
    {
     "data": {
      "text/html": [
       "<div>\n",
       "<style scoped>\n",
       "    .dataframe tbody tr th:only-of-type {\n",
       "        vertical-align: middle;\n",
       "    }\n",
       "\n",
       "    .dataframe tbody tr th {\n",
       "        vertical-align: top;\n",
       "    }\n",
       "\n",
       "    .dataframe thead th {\n",
       "        text-align: right;\n",
       "    }\n",
       "</style>\n",
       "<table border=\"1\" class=\"dataframe\">\n",
       "  <thead>\n",
       "    <tr style=\"text-align: right;\">\n",
       "      <th></th>\n",
       "      <th>index</th>\n",
       "      <th>0</th>\n",
       "    </tr>\n",
       "  </thead>\n",
       "  <tbody>\n",
       "    <tr>\n",
       "      <th>0</th>\n",
       "      <td>상가업소번호</td>\n",
       "      <td>0</td>\n",
       "    </tr>\n",
       "    <tr>\n",
       "      <th>1</th>\n",
       "      <td>상호명</td>\n",
       "      <td>0</td>\n",
       "    </tr>\n",
       "    <tr>\n",
       "      <th>2</th>\n",
       "      <td>지점명</td>\n",
       "      <td>89989</td>\n",
       "    </tr>\n",
       "    <tr>\n",
       "      <th>3</th>\n",
       "      <td>상권업종대분류코드</td>\n",
       "      <td>0</td>\n",
       "    </tr>\n",
       "    <tr>\n",
       "      <th>4</th>\n",
       "      <td>상권업종대분류명</td>\n",
       "      <td>0</td>\n",
       "    </tr>\n",
       "  </tbody>\n",
       "</table>\n",
       "</div>"
      ],
      "text/plain": [
       "       index      0\n",
       "0     상가업소번호      0\n",
       "1        상호명      0\n",
       "2        지점명  89989\n",
       "3  상권업종대분류코드      0\n",
       "4   상권업종대분류명      0"
      ]
     },
     "execution_count": 29,
     "metadata": {},
     "output_type": "execute_result"
    }
   ],
   "source": [
    "#  위에서 계산한 결측치 수를 reset_index 를 통해 데이터프레임으로 만들어 줍니다.\n",
    "#  df_null_count 변수에 결과를 담아 head로 미리보기 합니다. \n",
    "\n",
    "df_null_count = null_count.reset_index()\n",
    "df_null_count.head()"
   ]
  },
  {
   "cell_type": "markdown",
   "metadata": {},
   "source": [
    "## 컬럼명 변경하기"
   ]
  },
  {
   "cell_type": "code",
   "execution_count": 30,
   "metadata": {
    "ExecuteTime": {
     "end_time": "2021-02-23T06:29:19.214000Z",
     "start_time": "2021-02-23T06:29:19.197046Z"
    }
   },
   "outputs": [
    {
     "data": {
      "text/html": [
       "<div>\n",
       "<style scoped>\n",
       "    .dataframe tbody tr th:only-of-type {\n",
       "        vertical-align: middle;\n",
       "    }\n",
       "\n",
       "    .dataframe tbody tr th {\n",
       "        vertical-align: top;\n",
       "    }\n",
       "\n",
       "    .dataframe thead th {\n",
       "        text-align: right;\n",
       "    }\n",
       "</style>\n",
       "<table border=\"1\" class=\"dataframe\">\n",
       "  <thead>\n",
       "    <tr style=\"text-align: right;\">\n",
       "      <th></th>\n",
       "      <th>컬럼명</th>\n",
       "      <th>결측치수</th>\n",
       "    </tr>\n",
       "  </thead>\n",
       "  <tbody>\n",
       "    <tr>\n",
       "      <th>0</th>\n",
       "      <td>상가업소번호</td>\n",
       "      <td>0</td>\n",
       "    </tr>\n",
       "    <tr>\n",
       "      <th>1</th>\n",
       "      <td>상호명</td>\n",
       "      <td>0</td>\n",
       "    </tr>\n",
       "    <tr>\n",
       "      <th>2</th>\n",
       "      <td>지점명</td>\n",
       "      <td>89989</td>\n",
       "    </tr>\n",
       "    <tr>\n",
       "      <th>3</th>\n",
       "      <td>상권업종대분류코드</td>\n",
       "      <td>0</td>\n",
       "    </tr>\n",
       "    <tr>\n",
       "      <th>4</th>\n",
       "      <td>상권업종대분류명</td>\n",
       "      <td>0</td>\n",
       "    </tr>\n",
       "  </tbody>\n",
       "</table>\n",
       "</div>"
      ],
      "text/plain": [
       "         컬럼명   결측치수\n",
       "0     상가업소번호      0\n",
       "1        상호명      0\n",
       "2        지점명  89989\n",
       "3  상권업종대분류코드      0\n",
       "4   상권업종대분류명      0"
      ]
     },
     "execution_count": 30,
     "metadata": {},
     "output_type": "execute_result"
    }
   ],
   "source": [
    "#  df_null_count 변수에 담겨 있는 컬럼의 이름을 \"컬럼명\", \"결측치\"로 변경해 줍니다. \n",
    "\n",
    "df_null_count.columns = [\"컬럼명\", \"결측치수\"]\n",
    "df_null_count.head()"
   ]
  },
  {
   "cell_type": "markdown",
   "metadata": {},
   "source": [
    "## 정렬하기"
   ]
  },
  {
   "cell_type": "code",
   "execution_count": 31,
   "metadata": {
    "ExecuteTime": {
     "end_time": "2021-02-23T06:29:21.357969Z",
     "start_time": "2021-02-23T06:29:21.347995Z"
    }
   },
   "outputs": [
    {
     "data": {
      "text/html": [
       "<div>\n",
       "<style scoped>\n",
       "    .dataframe tbody tr th:only-of-type {\n",
       "        vertical-align: middle;\n",
       "    }\n",
       "\n",
       "    .dataframe tbody tr th {\n",
       "        vertical-align: top;\n",
       "    }\n",
       "\n",
       "    .dataframe thead th {\n",
       "        text-align: right;\n",
       "    }\n",
       "</style>\n",
       "<table border=\"1\" class=\"dataframe\">\n",
       "  <thead>\n",
       "    <tr style=\"text-align: right;\">\n",
       "      <th></th>\n",
       "      <th>컬럼명</th>\n",
       "      <th>결측치수</th>\n",
       "    </tr>\n",
       "  </thead>\n",
       "  <tbody>\n",
       "    <tr>\n",
       "      <th>2</th>\n",
       "      <td>지점명</td>\n",
       "      <td>89989</td>\n",
       "    </tr>\n",
       "    <tr>\n",
       "      <th>34</th>\n",
       "      <td>동정보</td>\n",
       "      <td>83929</td>\n",
       "    </tr>\n",
       "    <tr>\n",
       "      <th>28</th>\n",
       "      <td>건물부번지</td>\n",
       "      <td>80731</td>\n",
       "    </tr>\n",
       "    <tr>\n",
       "      <th>36</th>\n",
       "      <td>호정보</td>\n",
       "      <td>75784</td>\n",
       "    </tr>\n",
       "    <tr>\n",
       "      <th>35</th>\n",
       "      <td>층정보</td>\n",
       "      <td>47291</td>\n",
       "    </tr>\n",
       "    <tr>\n",
       "      <th>30</th>\n",
       "      <td>건물명</td>\n",
       "      <td>44882</td>\n",
       "    </tr>\n",
       "    <tr>\n",
       "      <th>23</th>\n",
       "      <td>지번부번지</td>\n",
       "      <td>19256</td>\n",
       "    </tr>\n",
       "    <tr>\n",
       "      <th>9</th>\n",
       "      <td>표준산업분류코드</td>\n",
       "      <td>4922</td>\n",
       "    </tr>\n",
       "    <tr>\n",
       "      <th>10</th>\n",
       "      <td>표준산업분류명</td>\n",
       "      <td>4922</td>\n",
       "    </tr>\n",
       "    <tr>\n",
       "      <th>11</th>\n",
       "      <td>시도코드</td>\n",
       "      <td>379</td>\n",
       "    </tr>\n",
       "  </tbody>\n",
       "</table>\n",
       "</div>"
      ],
      "text/plain": [
       "         컬럼명   결측치수\n",
       "2        지점명  89989\n",
       "34       동정보  83929\n",
       "28     건물부번지  80731\n",
       "36       호정보  75784\n",
       "35       층정보  47291\n",
       "30       건물명  44882\n",
       "23     지번부번지  19256\n",
       "9   표준산업분류코드   4922\n",
       "10   표준산업분류명   4922\n",
       "11      시도코드    379"
      ]
     },
     "execution_count": 31,
     "metadata": {},
     "output_type": "execute_result"
    }
   ],
   "source": [
    "#  df_null_count 데이터 프레임에 있는 결측치수 컬럼을 sort_values를 통해 정렬해서\n",
    "# 결측치가 많은 순으로 상위 10개만 출력합니다. \n",
    "\n",
    "df_null_count.sort_values(by='결측치수', ascending=False).head(10)"
   ]
  },
  {
   "cell_type": "code",
   "execution_count": 32,
   "metadata": {
    "ExecuteTime": {
     "end_time": "2021-02-23T06:29:24.530027Z",
     "start_time": "2021-02-23T06:29:24.524044Z"
    }
   },
   "outputs": [],
   "source": [
    "df_null_count_top = df_null_count.sort_values(by=\"결측치수\", ascending=False).head(10)"
   ]
  },
  {
   "cell_type": "markdown",
   "metadata": {},
   "source": [
    "## 특정 컬럼만 불러오기"
   ]
  },
  {
   "cell_type": "code",
   "execution_count": 33,
   "metadata": {
    "ExecuteTime": {
     "end_time": "2021-02-23T06:29:26.207571Z",
     "start_time": "2021-02-23T06:29:26.196599Z"
    }
   },
   "outputs": [
    {
     "data": {
      "text/plain": [
       "0    NaN\n",
       "1    NaN\n",
       "2    NaN\n",
       "3    NaN\n",
       "4    수지점\n",
       "Name: 지점명, dtype: object"
      ]
     },
     "execution_count": 33,
     "metadata": {},
     "output_type": "execute_result"
    }
   ],
   "source": [
    "#  지점명 컬럼을 불러옵니다.\n",
    "#  NaN == Not a Number의 약자 \n",
    "\n",
    "df['지점명'].head()"
   ]
  },
  {
   "cell_type": "code",
   "execution_count": 34,
   "metadata": {
    "ExecuteTime": {
     "end_time": "2021-02-23T06:29:28.167767Z",
     "start_time": "2021-02-23T06:29:28.148828Z"
    }
   },
   "outputs": [
    {
     "data": {
      "text/plain": [
       "['지점명',\n",
       " '동정보',\n",
       " '건물부번지',\n",
       " '호정보',\n",
       " '층정보',\n",
       " '건물명',\n",
       " '지번부번지',\n",
       " '표준산업분류코드',\n",
       " '표준산업분류명',\n",
       " '시도코드']"
      ]
     },
     "execution_count": 34,
     "metadata": {},
     "output_type": "execute_result"
    }
   ],
   "source": [
    "#  \"컬럼명\" 이라는 컬럼의 값만 가져와서 drop_colums 라는 변수에 담습니다.\n",
    "\n",
    "drop_columns = df_null_count_top[\"컬럼명\"].tolist()\n",
    "drop_columns"
   ]
  },
  {
   "cell_type": "code",
   "execution_count": 35,
   "metadata": {
    "ExecuteTime": {
     "end_time": "2021-02-23T06:29:30.487955Z",
     "start_time": "2021-02-23T06:29:30.461029Z"
    }
   },
   "outputs": [
    {
     "data": {
      "text/html": [
       "<div>\n",
       "<style scoped>\n",
       "    .dataframe tbody tr th:only-of-type {\n",
       "        vertical-align: middle;\n",
       "    }\n",
       "\n",
       "    .dataframe tbody tr th {\n",
       "        vertical-align: top;\n",
       "    }\n",
       "\n",
       "    .dataframe thead th {\n",
       "        text-align: right;\n",
       "    }\n",
       "</style>\n",
       "<table border=\"1\" class=\"dataframe\">\n",
       "  <thead>\n",
       "    <tr style=\"text-align: right;\">\n",
       "      <th></th>\n",
       "      <th>지점명</th>\n",
       "      <th>동정보</th>\n",
       "      <th>건물부번지</th>\n",
       "      <th>호정보</th>\n",
       "      <th>층정보</th>\n",
       "      <th>건물명</th>\n",
       "      <th>지번부번지</th>\n",
       "      <th>표준산업분류코드</th>\n",
       "      <th>표준산업분류명</th>\n",
       "      <th>시도코드</th>\n",
       "    </tr>\n",
       "  </thead>\n",
       "  <tbody>\n",
       "    <tr>\n",
       "      <th>0</th>\n",
       "      <td>NaN</td>\n",
       "      <td>NaN</td>\n",
       "      <td>NaN</td>\n",
       "      <td>NaN</td>\n",
       "      <td>NaN</td>\n",
       "      <td>산호한양아파트</td>\n",
       "      <td>NaN</td>\n",
       "      <td>Q86201</td>\n",
       "      <td>일반 의원</td>\n",
       "      <td>41.0</td>\n",
       "    </tr>\n",
       "    <tr>\n",
       "      <th>1</th>\n",
       "      <td>NaN</td>\n",
       "      <td>NaN</td>\n",
       "      <td>NaN</td>\n",
       "      <td>NaN</td>\n",
       "      <td>4</td>\n",
       "      <td>NaN</td>\n",
       "      <td>14.0</td>\n",
       "      <td>Q86201</td>\n",
       "      <td>일반 의원</td>\n",
       "      <td>11.0</td>\n",
       "    </tr>\n",
       "    <tr>\n",
       "      <th>2</th>\n",
       "      <td>NaN</td>\n",
       "      <td>NaN</td>\n",
       "      <td>NaN</td>\n",
       "      <td>NaN</td>\n",
       "      <td>NaN</td>\n",
       "      <td>한라프라자</td>\n",
       "      <td>1.0</td>\n",
       "      <td>Q86201</td>\n",
       "      <td>일반 의원</td>\n",
       "      <td>41.0</td>\n",
       "    </tr>\n",
       "    <tr>\n",
       "      <th>3</th>\n",
       "      <td>NaN</td>\n",
       "      <td>NaN</td>\n",
       "      <td>NaN</td>\n",
       "      <td>NaN</td>\n",
       "      <td>5</td>\n",
       "      <td>NaN</td>\n",
       "      <td>1.0</td>\n",
       "      <td>NaN</td>\n",
       "      <td>NaN</td>\n",
       "      <td>26.0</td>\n",
       "    </tr>\n",
       "    <tr>\n",
       "      <th>4</th>\n",
       "      <td>수지점</td>\n",
       "      <td>NaN</td>\n",
       "      <td>NaN</td>\n",
       "      <td>NaN</td>\n",
       "      <td>1</td>\n",
       "      <td>NaN</td>\n",
       "      <td>2.0</td>\n",
       "      <td>G47811</td>\n",
       "      <td>의약품 및 의료용품 소매업</td>\n",
       "      <td>41.0</td>\n",
       "    </tr>\n",
       "  </tbody>\n",
       "</table>\n",
       "</div>"
      ],
      "text/plain": [
       "   지점명  동정보  건물부번지  호정보  층정보      건물명  지번부번지 표준산업분류코드         표준산업분류명  시도코드\n",
       "0  NaN  NaN    NaN  NaN  NaN  산호한양아파트    NaN   Q86201           일반 의원  41.0\n",
       "1  NaN  NaN    NaN  NaN    4      NaN   14.0   Q86201           일반 의원  11.0\n",
       "2  NaN  NaN    NaN  NaN  NaN    한라프라자    1.0   Q86201           일반 의원  41.0\n",
       "3  NaN  NaN    NaN  NaN    5      NaN    1.0      NaN             NaN  26.0\n",
       "4  수지점  NaN    NaN  NaN    1      NaN    2.0   G47811  의약품 및 의료용품 소매업  41.0"
      ]
     },
     "execution_count": 35,
     "metadata": {},
     "output_type": "execute_result"
    }
   ],
   "source": [
    "#  drop_columns 변수로 해당 컬럼 정보만 데이터프레임에서 가져옵니다. \n",
    "\n",
    "df[drop_columns].head()"
   ]
  },
  {
   "cell_type": "markdown",
   "metadata": {},
   "source": [
    "## 제거하기"
   ]
  },
  {
   "cell_type": "code",
   "execution_count": 36,
   "metadata": {
    "ExecuteTime": {
     "end_time": "2021-02-23T06:29:32.553900Z",
     "start_time": "2021-02-23T06:29:32.531958Z"
    }
   },
   "outputs": [
    {
     "name": "stdout",
     "output_type": "stream",
     "text": [
      "(91335, 39)\n",
      "(91335, 29)\n"
     ]
    }
   ],
   "source": [
    "#  axis = 0 (행) or 1 (열)\n",
    "# 제거하고 데이터프레임에 넣어 주어야 한다\n",
    "\n",
    "print(df.shape)\n",
    "df = df.drop(drop_columns, axis=1)\n",
    "print(df.shape)"
   ]
  },
  {
   "cell_type": "code",
   "execution_count": 37,
   "metadata": {
    "ExecuteTime": {
     "end_time": "2021-02-23T06:29:35.163179Z",
     "start_time": "2021-02-23T06:29:35.060453Z"
    }
   },
   "outputs": [
    {
     "name": "stdout",
     "output_type": "stream",
     "text": [
      "<class 'pandas.core.frame.DataFrame'>\n",
      "RangeIndex: 91335 entries, 0 to 91334\n",
      "Data columns (total 29 columns):\n",
      " #   Column     Non-Null Count  Dtype  \n",
      "---  ------     --------------  -----  \n",
      " 0   상가업소번호     91335 non-null  int64  \n",
      " 1   상호명        91335 non-null  object \n",
      " 2   상권업종대분류코드  91335 non-null  object \n",
      " 3   상권업종대분류명   91335 non-null  object \n",
      " 4   상권업종중분류코드  91335 non-null  object \n",
      " 5   상권업종중분류명   91335 non-null  object \n",
      " 6   상권업종소분류코드  91335 non-null  object \n",
      " 7   상권업종소분류명   91335 non-null  object \n",
      " 8   시도명        90956 non-null  object \n",
      " 9   시군구코드      90956 non-null  float64\n",
      " 10  시군구명       90956 non-null  object \n",
      " 11  행정동코드      91335 non-null  int64  \n",
      " 12  행정동명       90956 non-null  object \n",
      " 13  법정동코드      91280 non-null  float64\n",
      " 14  법정동명       91280 non-null  object \n",
      " 15  지번코드       91335 non-null  int64  \n",
      " 16  대지구분코드     91335 non-null  int64  \n",
      " 17  대지구분명      91335 non-null  object \n",
      " 18  지번본번지      91335 non-null  int64  \n",
      " 19  지번주소       91335 non-null  object \n",
      " 20  도로명코드      91335 non-null  int64  \n",
      " 21  도로명        91335 non-null  object \n",
      " 22  건물본번지      91335 non-null  int64  \n",
      " 23  건물관리번호     91335 non-null  object \n",
      " 24  도로명주소      91335 non-null  object \n",
      " 25  구우편번호      91323 non-null  float64\n",
      " 26  신우편번호      91333 non-null  float64\n",
      " 27  경도         91335 non-null  float64\n",
      " 28  위도         91335 non-null  float64\n",
      "dtypes: float64(6), int64(7), object(16)\n",
      "memory usage: 20.2+ MB\n"
     ]
    }
   ],
   "source": [
    "#  제거 결과를 info로 확인합니다. \n",
    "\n",
    "df.info()"
   ]
  },
  {
   "cell_type": "markdown",
   "metadata": {},
   "source": [
    "## 기초 통계값 보기"
   ]
  },
  {
   "cell_type": "markdown",
   "metadata": {},
   "source": [
    "### 기초 통계 수치"
   ]
  },
  {
   "cell_type": "code",
   "execution_count": 38,
   "metadata": {
    "ExecuteTime": {
     "end_time": "2021-02-23T06:29:37.935217Z",
     "start_time": "2021-02-23T06:29:37.916271Z"
    }
   },
   "outputs": [
    {
     "data": {
      "text/plain": [
       "36.62471119236673"
      ]
     },
     "execution_count": 38,
     "metadata": {},
     "output_type": "execute_result"
    }
   ],
   "source": [
    "#  평균값\n",
    "df[\"위도\"].mean()"
   ]
  },
  {
   "cell_type": "code",
   "execution_count": 39,
   "metadata": {
    "ExecuteTime": {
     "end_time": "2021-02-23T06:29:39.640497Z",
     "start_time": "2021-02-23T06:29:39.629530Z"
    }
   },
   "outputs": [
    {
     "data": {
      "text/plain": [
       "37.23465231770329"
      ]
     },
     "execution_count": 39,
     "metadata": {},
     "output_type": "execute_result"
    }
   ],
   "source": [
    "#  중앙값\n",
    "df[\"위도\"].median()"
   ]
  },
  {
   "cell_type": "code",
   "execution_count": 40,
   "metadata": {
    "ExecuteTime": {
     "end_time": "2021-02-23T06:29:41.371060Z",
     "start_time": "2021-02-23T06:29:41.364078Z"
    }
   },
   "outputs": [
    {
     "data": {
      "text/plain": [
       "38.499658570559795"
      ]
     },
     "execution_count": 40,
     "metadata": {},
     "output_type": "execute_result"
    }
   ],
   "source": [
    "# 최댓값\n",
    "df[\"위도\"].max()"
   ]
  },
  {
   "cell_type": "code",
   "execution_count": 41,
   "metadata": {
    "ExecuteTime": {
     "end_time": "2021-02-23T06:29:43.669986Z",
     "start_time": "2021-02-23T06:29:43.652034Z"
    }
   },
   "outputs": [
    {
     "data": {
      "text/plain": [
       "33.2192896688307"
      ]
     },
     "execution_count": 41,
     "metadata": {},
     "output_type": "execute_result"
    }
   ],
   "source": [
    "# 최솟값\n",
    "df[\"위도\"].min()"
   ]
  },
  {
   "cell_type": "code",
   "execution_count": 42,
   "metadata": {
    "ExecuteTime": {
     "end_time": "2021-02-23T06:29:45.535724Z",
     "start_time": "2021-02-23T06:29:45.524755Z"
    }
   },
   "outputs": [
    {
     "data": {
      "text/plain": [
       "91335"
      ]
     },
     "execution_count": 42,
     "metadata": {},
     "output_type": "execute_result"
    }
   ],
   "source": [
    "# 개수 \n",
    "df[\"위도\"].count()"
   ]
  },
  {
   "cell_type": "markdown",
   "metadata": {},
   "source": [
    "### 기초 통계값 요약하기 - describe\n",
    "describe를 사용하면 데이터를 요약해 볼 수 있습니다. 기본적으로 수치형 데이터를 요약해서 보여줍니다. 데이터의 개수, 평균, 표준편차, 최솟값, 1사분위수(25%), 2사분위수(50%), 3사분위수(75%), 최댓값을 볼 수 있습니다. "
   ]
  },
  {
   "cell_type": "code",
   "execution_count": 43,
   "metadata": {
    "ExecuteTime": {
     "end_time": "2021-02-23T06:29:48.175856Z",
     "start_time": "2021-02-23T06:29:48.148901Z"
    }
   },
   "outputs": [
    {
     "data": {
      "text/plain": [
       "count    91335.000000\n",
       "mean        36.624711\n",
       "std          1.041361\n",
       "min         33.219290\n",
       "25%         35.811830\n",
       "50%         37.234652\n",
       "75%         37.507463\n",
       "max         38.499659\n",
       "Name: 위도, dtype: float64"
      ]
     },
     "execution_count": 43,
     "metadata": {},
     "output_type": "execute_result"
    }
   ],
   "source": [
    "# 위도를 describe로 요약해 봅니다.\n",
    "df[\"위도\"].describe()"
   ]
  },
  {
   "cell_type": "code",
   "execution_count": 44,
   "metadata": {
    "ExecuteTime": {
     "end_time": "2021-02-23T06:29:50.072988Z",
     "start_time": "2021-02-23T06:29:50.036087Z"
    }
   },
   "outputs": [
    {
     "data": {
      "text/html": [
       "<div>\n",
       "<style scoped>\n",
       "    .dataframe tbody tr th:only-of-type {\n",
       "        vertical-align: middle;\n",
       "    }\n",
       "\n",
       "    .dataframe tbody tr th {\n",
       "        vertical-align: top;\n",
       "    }\n",
       "\n",
       "    .dataframe thead th {\n",
       "        text-align: right;\n",
       "    }\n",
       "</style>\n",
       "<table border=\"1\" class=\"dataframe\">\n",
       "  <thead>\n",
       "    <tr style=\"text-align: right;\">\n",
       "      <th></th>\n",
       "      <th>위도</th>\n",
       "      <th>경도</th>\n",
       "    </tr>\n",
       "  </thead>\n",
       "  <tbody>\n",
       "    <tr>\n",
       "      <th>count</th>\n",
       "      <td>91335.000000</td>\n",
       "      <td>91335.000000</td>\n",
       "    </tr>\n",
       "    <tr>\n",
       "      <th>mean</th>\n",
       "      <td>36.624711</td>\n",
       "      <td>127.487524</td>\n",
       "    </tr>\n",
       "    <tr>\n",
       "      <th>std</th>\n",
       "      <td>1.041361</td>\n",
       "      <td>0.842877</td>\n",
       "    </tr>\n",
       "    <tr>\n",
       "      <th>min</th>\n",
       "      <td>33.219290</td>\n",
       "      <td>124.717632</td>\n",
       "    </tr>\n",
       "    <tr>\n",
       "      <th>25%</th>\n",
       "      <td>35.811830</td>\n",
       "      <td>126.914297</td>\n",
       "    </tr>\n",
       "    <tr>\n",
       "      <th>50%</th>\n",
       "      <td>37.234652</td>\n",
       "      <td>127.084550</td>\n",
       "    </tr>\n",
       "    <tr>\n",
       "      <th>75%</th>\n",
       "      <td>37.507463</td>\n",
       "      <td>128.108919</td>\n",
       "    </tr>\n",
       "    <tr>\n",
       "      <th>max</th>\n",
       "      <td>38.499659</td>\n",
       "      <td>130.909912</td>\n",
       "    </tr>\n",
       "  </tbody>\n",
       "</table>\n",
       "</div>"
      ],
      "text/plain": [
       "                 위도            경도\n",
       "count  91335.000000  91335.000000\n",
       "mean      36.624711    127.487524\n",
       "std        1.041361      0.842877\n",
       "min       33.219290    124.717632\n",
       "25%       35.811830    126.914297\n",
       "50%       37.234652    127.084550\n",
       "75%       37.507463    128.108919\n",
       "max       38.499659    130.909912"
      ]
     },
     "execution_count": 44,
     "metadata": {},
     "output_type": "execute_result"
    }
   ],
   "source": [
    "# 2개의 컬럽을 describe 로 요약합니다. \n",
    "# 2개 컬럼을 리스트로 묶어야 한다\n",
    "\n",
    "df[[\"위도\", \"경도\"]].describe()"
   ]
  },
  {
   "cell_type": "code",
   "execution_count": 45,
   "metadata": {
    "ExecuteTime": {
     "end_time": "2021-02-23T06:29:53.491398Z",
     "start_time": "2021-02-23T06:29:52.693003Z"
    }
   },
   "outputs": [
    {
     "data": {
      "text/html": [
       "<div>\n",
       "<style scoped>\n",
       "    .dataframe tbody tr th:only-of-type {\n",
       "        vertical-align: middle;\n",
       "    }\n",
       "\n",
       "    .dataframe tbody tr th {\n",
       "        vertical-align: top;\n",
       "    }\n",
       "\n",
       "    .dataframe thead th {\n",
       "        text-align: right;\n",
       "    }\n",
       "</style>\n",
       "<table border=\"1\" class=\"dataframe\">\n",
       "  <thead>\n",
       "    <tr style=\"text-align: right;\">\n",
       "      <th></th>\n",
       "      <th>상호명</th>\n",
       "      <th>상권업종대분류코드</th>\n",
       "      <th>상권업종대분류명</th>\n",
       "      <th>상권업종중분류코드</th>\n",
       "      <th>상권업종중분류명</th>\n",
       "      <th>상권업종소분류코드</th>\n",
       "      <th>상권업종소분류명</th>\n",
       "      <th>시도명</th>\n",
       "      <th>시군구명</th>\n",
       "      <th>행정동명</th>\n",
       "      <th>법정동명</th>\n",
       "      <th>대지구분명</th>\n",
       "      <th>지번주소</th>\n",
       "      <th>도로명</th>\n",
       "      <th>건물관리번호</th>\n",
       "      <th>도로명주소</th>\n",
       "    </tr>\n",
       "  </thead>\n",
       "  <tbody>\n",
       "    <tr>\n",
       "      <th>count</th>\n",
       "      <td>91335</td>\n",
       "      <td>91335</td>\n",
       "      <td>91335</td>\n",
       "      <td>91335</td>\n",
       "      <td>91335</td>\n",
       "      <td>91335</td>\n",
       "      <td>91335</td>\n",
       "      <td>90956</td>\n",
       "      <td>90956</td>\n",
       "      <td>90956</td>\n",
       "      <td>91280</td>\n",
       "      <td>91335</td>\n",
       "      <td>91335</td>\n",
       "      <td>91335</td>\n",
       "      <td>91335</td>\n",
       "      <td>91335</td>\n",
       "    </tr>\n",
       "    <tr>\n",
       "      <th>unique</th>\n",
       "      <td>56910</td>\n",
       "      <td>1</td>\n",
       "      <td>1</td>\n",
       "      <td>5</td>\n",
       "      <td>5</td>\n",
       "      <td>34</td>\n",
       "      <td>34</td>\n",
       "      <td>17</td>\n",
       "      <td>228</td>\n",
       "      <td>2791</td>\n",
       "      <td>2822</td>\n",
       "      <td>2</td>\n",
       "      <td>53118</td>\n",
       "      <td>16610</td>\n",
       "      <td>54142</td>\n",
       "      <td>54031</td>\n",
       "    </tr>\n",
       "    <tr>\n",
       "      <th>top</th>\n",
       "      <td>리원</td>\n",
       "      <td>S</td>\n",
       "      <td>의료</td>\n",
       "      <td>S01</td>\n",
       "      <td>병원</td>\n",
       "      <td>S02A01</td>\n",
       "      <td>약국</td>\n",
       "      <td>경기도</td>\n",
       "      <td>서구</td>\n",
       "      <td>중앙동</td>\n",
       "      <td>중동</td>\n",
       "      <td>대지</td>\n",
       "      <td>서울특별시 동대문구 제기동 965-1</td>\n",
       "      <td>서울특별시 강남구 강남대로</td>\n",
       "      <td>1123010300109650001031604</td>\n",
       "      <td>서울특별시 동대문구 약령중앙로8길 10</td>\n",
       "    </tr>\n",
       "    <tr>\n",
       "      <th>freq</th>\n",
       "      <td>152</td>\n",
       "      <td>91335</td>\n",
       "      <td>91335</td>\n",
       "      <td>60774</td>\n",
       "      <td>60774</td>\n",
       "      <td>18964</td>\n",
       "      <td>18964</td>\n",
       "      <td>21374</td>\n",
       "      <td>3165</td>\n",
       "      <td>1856</td>\n",
       "      <td>874</td>\n",
       "      <td>91213</td>\n",
       "      <td>198</td>\n",
       "      <td>326</td>\n",
       "      <td>198</td>\n",
       "      <td>198</td>\n",
       "    </tr>\n",
       "  </tbody>\n",
       "</table>\n",
       "</div>"
      ],
      "text/plain": [
       "          상호명 상권업종대분류코드 상권업종대분류명 상권업종중분류코드 상권업종중분류명 상권업종소분류코드 상권업종소분류명    시도명  \\\n",
       "count   91335     91335    91335     91335    91335     91335    91335  90956   \n",
       "unique  56910         1        1         5        5        34       34     17   \n",
       "top        리원         S       의료       S01       병원    S02A01       약국    경기도   \n",
       "freq      152     91335    91335     60774    60774     18964    18964  21374   \n",
       "\n",
       "         시군구명   행정동명   법정동명  대지구분명                  지번주소             도로명  \\\n",
       "count   90956  90956  91280  91335                 91335           91335   \n",
       "unique    228   2791   2822      2                 53118           16610   \n",
       "top        서구    중앙동     중동     대지  서울특별시 동대문구 제기동 965-1  서울특별시 강남구 강남대로   \n",
       "freq     3165   1856    874  91213                   198             326   \n",
       "\n",
       "                           건물관리번호                  도로명주소  \n",
       "count                       91335                  91335  \n",
       "unique                      54142                  54031  \n",
       "top     1123010300109650001031604  서울특별시 동대문구 약령중앙로8길 10  \n",
       "freq                          198                    198  "
      ]
     },
     "execution_count": 45,
     "metadata": {},
     "output_type": "execute_result"
    }
   ],
   "source": [
    "# describe로 문자열 데이터타입의 요약을 봅니다\n",
    "df.describe(include=\"object\")"
   ]
  },
  {
   "cell_type": "code",
   "execution_count": 46,
   "metadata": {
    "ExecuteTime": {
     "end_time": "2021-02-23T06:29:55.911733Z",
     "start_time": "2021-02-23T06:29:55.413069Z"
    }
   },
   "outputs": [
    {
     "data": {
      "text/html": [
       "<div>\n",
       "<style scoped>\n",
       "    .dataframe tbody tr th:only-of-type {\n",
       "        vertical-align: middle;\n",
       "    }\n",
       "\n",
       "    .dataframe tbody tr th {\n",
       "        vertical-align: top;\n",
       "    }\n",
       "\n",
       "    .dataframe thead th {\n",
       "        text-align: right;\n",
       "    }\n",
       "</style>\n",
       "<table border=\"1\" class=\"dataframe\">\n",
       "  <thead>\n",
       "    <tr style=\"text-align: right;\">\n",
       "      <th></th>\n",
       "      <th>상가업소번호</th>\n",
       "      <th>상호명</th>\n",
       "      <th>상권업종대분류코드</th>\n",
       "      <th>상권업종대분류명</th>\n",
       "      <th>상권업종중분류코드</th>\n",
       "      <th>상권업종중분류명</th>\n",
       "      <th>상권업종소분류코드</th>\n",
       "      <th>상권업종소분류명</th>\n",
       "      <th>시도명</th>\n",
       "      <th>시군구코드</th>\n",
       "      <th>...</th>\n",
       "      <th>지번주소</th>\n",
       "      <th>도로명코드</th>\n",
       "      <th>도로명</th>\n",
       "      <th>건물본번지</th>\n",
       "      <th>건물관리번호</th>\n",
       "      <th>도로명주소</th>\n",
       "      <th>구우편번호</th>\n",
       "      <th>신우편번호</th>\n",
       "      <th>경도</th>\n",
       "      <th>위도</th>\n",
       "    </tr>\n",
       "  </thead>\n",
       "  <tbody>\n",
       "    <tr>\n",
       "      <th>count</th>\n",
       "      <td>9.133500e+04</td>\n",
       "      <td>91335</td>\n",
       "      <td>91335</td>\n",
       "      <td>91335</td>\n",
       "      <td>91335</td>\n",
       "      <td>91335</td>\n",
       "      <td>91335</td>\n",
       "      <td>91335</td>\n",
       "      <td>90956</td>\n",
       "      <td>90956.000000</td>\n",
       "      <td>...</td>\n",
       "      <td>91335</td>\n",
       "      <td>9.133500e+04</td>\n",
       "      <td>91335</td>\n",
       "      <td>91335.000000</td>\n",
       "      <td>91335</td>\n",
       "      <td>91335</td>\n",
       "      <td>91323.000000</td>\n",
       "      <td>91333.00000</td>\n",
       "      <td>91335.000000</td>\n",
       "      <td>91335.000000</td>\n",
       "    </tr>\n",
       "    <tr>\n",
       "      <th>unique</th>\n",
       "      <td>NaN</td>\n",
       "      <td>56910</td>\n",
       "      <td>1</td>\n",
       "      <td>1</td>\n",
       "      <td>5</td>\n",
       "      <td>5</td>\n",
       "      <td>34</td>\n",
       "      <td>34</td>\n",
       "      <td>17</td>\n",
       "      <td>NaN</td>\n",
       "      <td>...</td>\n",
       "      <td>53118</td>\n",
       "      <td>NaN</td>\n",
       "      <td>16610</td>\n",
       "      <td>NaN</td>\n",
       "      <td>54142</td>\n",
       "      <td>54031</td>\n",
       "      <td>NaN</td>\n",
       "      <td>NaN</td>\n",
       "      <td>NaN</td>\n",
       "      <td>NaN</td>\n",
       "    </tr>\n",
       "    <tr>\n",
       "      <th>top</th>\n",
       "      <td>NaN</td>\n",
       "      <td>리원</td>\n",
       "      <td>S</td>\n",
       "      <td>의료</td>\n",
       "      <td>S01</td>\n",
       "      <td>병원</td>\n",
       "      <td>S02A01</td>\n",
       "      <td>약국</td>\n",
       "      <td>경기도</td>\n",
       "      <td>NaN</td>\n",
       "      <td>...</td>\n",
       "      <td>서울특별시 동대문구 제기동 965-1</td>\n",
       "      <td>NaN</td>\n",
       "      <td>서울특별시 강남구 강남대로</td>\n",
       "      <td>NaN</td>\n",
       "      <td>1123010300109650001031604</td>\n",
       "      <td>서울특별시 동대문구 약령중앙로8길 10</td>\n",
       "      <td>NaN</td>\n",
       "      <td>NaN</td>\n",
       "      <td>NaN</td>\n",
       "      <td>NaN</td>\n",
       "    </tr>\n",
       "    <tr>\n",
       "      <th>freq</th>\n",
       "      <td>NaN</td>\n",
       "      <td>152</td>\n",
       "      <td>91335</td>\n",
       "      <td>91335</td>\n",
       "      <td>60774</td>\n",
       "      <td>60774</td>\n",
       "      <td>18964</td>\n",
       "      <td>18964</td>\n",
       "      <td>21374</td>\n",
       "      <td>NaN</td>\n",
       "      <td>...</td>\n",
       "      <td>198</td>\n",
       "      <td>NaN</td>\n",
       "      <td>326</td>\n",
       "      <td>NaN</td>\n",
       "      <td>198</td>\n",
       "      <td>198</td>\n",
       "      <td>NaN</td>\n",
       "      <td>NaN</td>\n",
       "      <td>NaN</td>\n",
       "      <td>NaN</td>\n",
       "    </tr>\n",
       "    <tr>\n",
       "      <th>mean</th>\n",
       "      <td>2.121818e+07</td>\n",
       "      <td>NaN</td>\n",
       "      <td>NaN</td>\n",
       "      <td>NaN</td>\n",
       "      <td>NaN</td>\n",
       "      <td>NaN</td>\n",
       "      <td>NaN</td>\n",
       "      <td>NaN</td>\n",
       "      <td>NaN</td>\n",
       "      <td>32898.381877</td>\n",
       "      <td>...</td>\n",
       "      <td>NaN</td>\n",
       "      <td>3.293207e+11</td>\n",
       "      <td>NaN</td>\n",
       "      <td>251.200482</td>\n",
       "      <td>NaN</td>\n",
       "      <td>NaN</td>\n",
       "      <td>428432.911085</td>\n",
       "      <td>28085.47698</td>\n",
       "      <td>127.487524</td>\n",
       "      <td>36.624711</td>\n",
       "    </tr>\n",
       "    <tr>\n",
       "      <th>std</th>\n",
       "      <td>5.042828e+06</td>\n",
       "      <td>NaN</td>\n",
       "      <td>NaN</td>\n",
       "      <td>NaN</td>\n",
       "      <td>NaN</td>\n",
       "      <td>NaN</td>\n",
       "      <td>NaN</td>\n",
       "      <td>NaN</td>\n",
       "      <td>NaN</td>\n",
       "      <td>12985.393171</td>\n",
       "      <td>...</td>\n",
       "      <td>NaN</td>\n",
       "      <td>1.297391e+11</td>\n",
       "      <td>NaN</td>\n",
       "      <td>477.456487</td>\n",
       "      <td>NaN</td>\n",
       "      <td>NaN</td>\n",
       "      <td>193292.339066</td>\n",
       "      <td>18909.01455</td>\n",
       "      <td>0.842877</td>\n",
       "      <td>1.041361</td>\n",
       "    </tr>\n",
       "    <tr>\n",
       "      <th>min</th>\n",
       "      <td>2.901108e+06</td>\n",
       "      <td>NaN</td>\n",
       "      <td>NaN</td>\n",
       "      <td>NaN</td>\n",
       "      <td>NaN</td>\n",
       "      <td>NaN</td>\n",
       "      <td>NaN</td>\n",
       "      <td>NaN</td>\n",
       "      <td>NaN</td>\n",
       "      <td>11110.000000</td>\n",
       "      <td>...</td>\n",
       "      <td>NaN</td>\n",
       "      <td>1.111020e+11</td>\n",
       "      <td>NaN</td>\n",
       "      <td>0.000000</td>\n",
       "      <td>NaN</td>\n",
       "      <td>NaN</td>\n",
       "      <td>100011.000000</td>\n",
       "      <td>1000.00000</td>\n",
       "      <td>124.717632</td>\n",
       "      <td>33.219290</td>\n",
       "    </tr>\n",
       "    <tr>\n",
       "      <th>25%</th>\n",
       "      <td>2.001931e+07</td>\n",
       "      <td>NaN</td>\n",
       "      <td>NaN</td>\n",
       "      <td>NaN</td>\n",
       "      <td>NaN</td>\n",
       "      <td>NaN</td>\n",
       "      <td>NaN</td>\n",
       "      <td>NaN</td>\n",
       "      <td>NaN</td>\n",
       "      <td>26350.000000</td>\n",
       "      <td>...</td>\n",
       "      <td>NaN</td>\n",
       "      <td>2.635042e+11</td>\n",
       "      <td>NaN</td>\n",
       "      <td>29.000000</td>\n",
       "      <td>NaN</td>\n",
       "      <td>NaN</td>\n",
       "      <td>302120.000000</td>\n",
       "      <td>11681.00000</td>\n",
       "      <td>126.914297</td>\n",
       "      <td>35.811830</td>\n",
       "    </tr>\n",
       "    <tr>\n",
       "      <th>50%</th>\n",
       "      <td>2.211900e+07</td>\n",
       "      <td>NaN</td>\n",
       "      <td>NaN</td>\n",
       "      <td>NaN</td>\n",
       "      <td>NaN</td>\n",
       "      <td>NaN</td>\n",
       "      <td>NaN</td>\n",
       "      <td>NaN</td>\n",
       "      <td>NaN</td>\n",
       "      <td>41117.000000</td>\n",
       "      <td>...</td>\n",
       "      <td>NaN</td>\n",
       "      <td>4.111743e+11</td>\n",
       "      <td>NaN</td>\n",
       "      <td>92.000000</td>\n",
       "      <td>NaN</td>\n",
       "      <td>NaN</td>\n",
       "      <td>440300.000000</td>\n",
       "      <td>24353.00000</td>\n",
       "      <td>127.084550</td>\n",
       "      <td>37.234652</td>\n",
       "    </tr>\n",
       "    <tr>\n",
       "      <th>75%</th>\n",
       "      <td>2.480984e+07</td>\n",
       "      <td>NaN</td>\n",
       "      <td>NaN</td>\n",
       "      <td>NaN</td>\n",
       "      <td>NaN</td>\n",
       "      <td>NaN</td>\n",
       "      <td>NaN</td>\n",
       "      <td>NaN</td>\n",
       "      <td>NaN</td>\n",
       "      <td>43113.000000</td>\n",
       "      <td>...</td>\n",
       "      <td>NaN</td>\n",
       "      <td>4.311332e+11</td>\n",
       "      <td>NaN</td>\n",
       "      <td>257.000000</td>\n",
       "      <td>NaN</td>\n",
       "      <td>NaN</td>\n",
       "      <td>602811.000000</td>\n",
       "      <td>46044.00000</td>\n",
       "      <td>128.108919</td>\n",
       "      <td>37.507463</td>\n",
       "    </tr>\n",
       "    <tr>\n",
       "      <th>max</th>\n",
       "      <td>2.852470e+07</td>\n",
       "      <td>NaN</td>\n",
       "      <td>NaN</td>\n",
       "      <td>NaN</td>\n",
       "      <td>NaN</td>\n",
       "      <td>NaN</td>\n",
       "      <td>NaN</td>\n",
       "      <td>NaN</td>\n",
       "      <td>NaN</td>\n",
       "      <td>50130.000000</td>\n",
       "      <td>...</td>\n",
       "      <td>NaN</td>\n",
       "      <td>5.013049e+11</td>\n",
       "      <td>NaN</td>\n",
       "      <td>8795.000000</td>\n",
       "      <td>NaN</td>\n",
       "      <td>NaN</td>\n",
       "      <td>799801.000000</td>\n",
       "      <td>63643.00000</td>\n",
       "      <td>130.909912</td>\n",
       "      <td>38.499659</td>\n",
       "    </tr>\n",
       "  </tbody>\n",
       "</table>\n",
       "<p>11 rows × 29 columns</p>\n",
       "</div>"
      ],
      "text/plain": [
       "              상가업소번호    상호명 상권업종대분류코드 상권업종대분류명 상권업종중분류코드 상권업종중분류명 상권업종소분류코드  \\\n",
       "count   9.133500e+04  91335     91335    91335     91335    91335     91335   \n",
       "unique           NaN  56910         1        1         5        5        34   \n",
       "top              NaN     리원         S       의료       S01       병원    S02A01   \n",
       "freq             NaN    152     91335    91335     60774    60774     18964   \n",
       "mean    2.121818e+07    NaN       NaN      NaN       NaN      NaN       NaN   \n",
       "std     5.042828e+06    NaN       NaN      NaN       NaN      NaN       NaN   \n",
       "min     2.901108e+06    NaN       NaN      NaN       NaN      NaN       NaN   \n",
       "25%     2.001931e+07    NaN       NaN      NaN       NaN      NaN       NaN   \n",
       "50%     2.211900e+07    NaN       NaN      NaN       NaN      NaN       NaN   \n",
       "75%     2.480984e+07    NaN       NaN      NaN       NaN      NaN       NaN   \n",
       "max     2.852470e+07    NaN       NaN      NaN       NaN      NaN       NaN   \n",
       "\n",
       "       상권업종소분류명    시도명         시군구코드  ...                  지번주소         도로명코드  \\\n",
       "count     91335  90956  90956.000000  ...                 91335  9.133500e+04   \n",
       "unique       34     17           NaN  ...                 53118           NaN   \n",
       "top          약국    경기도           NaN  ...  서울특별시 동대문구 제기동 965-1           NaN   \n",
       "freq      18964  21374           NaN  ...                   198           NaN   \n",
       "mean        NaN    NaN  32898.381877  ...                   NaN  3.293207e+11   \n",
       "std         NaN    NaN  12985.393171  ...                   NaN  1.297391e+11   \n",
       "min         NaN    NaN  11110.000000  ...                   NaN  1.111020e+11   \n",
       "25%         NaN    NaN  26350.000000  ...                   NaN  2.635042e+11   \n",
       "50%         NaN    NaN  41117.000000  ...                   NaN  4.111743e+11   \n",
       "75%         NaN    NaN  43113.000000  ...                   NaN  4.311332e+11   \n",
       "max         NaN    NaN  50130.000000  ...                   NaN  5.013049e+11   \n",
       "\n",
       "                   도로명         건물본번지                     건물관리번호  \\\n",
       "count            91335  91335.000000                      91335   \n",
       "unique           16610           NaN                      54142   \n",
       "top     서울특별시 강남구 강남대로           NaN  1123010300109650001031604   \n",
       "freq               326           NaN                        198   \n",
       "mean               NaN    251.200482                        NaN   \n",
       "std                NaN    477.456487                        NaN   \n",
       "min                NaN      0.000000                        NaN   \n",
       "25%                NaN     29.000000                        NaN   \n",
       "50%                NaN     92.000000                        NaN   \n",
       "75%                NaN    257.000000                        NaN   \n",
       "max                NaN   8795.000000                        NaN   \n",
       "\n",
       "                        도로명주소          구우편번호        신우편번호            경도  \\\n",
       "count                   91335   91323.000000  91333.00000  91335.000000   \n",
       "unique                  54031            NaN          NaN           NaN   \n",
       "top     서울특별시 동대문구 약령중앙로8길 10            NaN          NaN           NaN   \n",
       "freq                      198            NaN          NaN           NaN   \n",
       "mean                      NaN  428432.911085  28085.47698    127.487524   \n",
       "std                       NaN  193292.339066  18909.01455      0.842877   \n",
       "min                       NaN  100011.000000   1000.00000    124.717632   \n",
       "25%                       NaN  302120.000000  11681.00000    126.914297   \n",
       "50%                       NaN  440300.000000  24353.00000    127.084550   \n",
       "75%                       NaN  602811.000000  46044.00000    128.108919   \n",
       "max                       NaN  799801.000000  63643.00000    130.909912   \n",
       "\n",
       "                  위도  \n",
       "count   91335.000000  \n",
       "unique           NaN  \n",
       "top              NaN  \n",
       "freq             NaN  \n",
       "mean       36.624711  \n",
       "std         1.041361  \n",
       "min        33.219290  \n",
       "25%        35.811830  \n",
       "50%        37.234652  \n",
       "75%        37.507463  \n",
       "max        38.499659  \n",
       "\n",
       "[11 rows x 29 columns]"
      ]
     },
     "execution_count": 46,
     "metadata": {},
     "output_type": "execute_result"
    }
   ],
   "source": [
    "df.describe(include=\"all\")"
   ]
  },
  {
   "cell_type": "code",
   "execution_count": 47,
   "metadata": {
    "ExecuteTime": {
     "end_time": "2021-02-23T06:29:58.147539Z",
     "start_time": "2021-02-23T06:29:58.060313Z"
    }
   },
   "outputs": [
    {
     "data": {
      "text/html": [
       "<div>\n",
       "<style scoped>\n",
       "    .dataframe tbody tr th:only-of-type {\n",
       "        vertical-align: middle;\n",
       "    }\n",
       "\n",
       "    .dataframe tbody tr th {\n",
       "        vertical-align: top;\n",
       "    }\n",
       "\n",
       "    .dataframe thead th {\n",
       "        text-align: right;\n",
       "    }\n",
       "</style>\n",
       "<table border=\"1\" class=\"dataframe\">\n",
       "  <thead>\n",
       "    <tr style=\"text-align: right;\">\n",
       "      <th></th>\n",
       "      <th>상가업소번호</th>\n",
       "      <th>시군구코드</th>\n",
       "      <th>행정동코드</th>\n",
       "      <th>법정동코드</th>\n",
       "      <th>지번코드</th>\n",
       "      <th>대지구분코드</th>\n",
       "      <th>지번본번지</th>\n",
       "      <th>도로명코드</th>\n",
       "      <th>건물본번지</th>\n",
       "      <th>구우편번호</th>\n",
       "      <th>신우편번호</th>\n",
       "      <th>경도</th>\n",
       "      <th>위도</th>\n",
       "    </tr>\n",
       "  </thead>\n",
       "  <tbody>\n",
       "    <tr>\n",
       "      <th>count</th>\n",
       "      <td>9.133500e+04</td>\n",
       "      <td>90956.000000</td>\n",
       "      <td>9.133500e+04</td>\n",
       "      <td>9.128000e+04</td>\n",
       "      <td>9.133500e+04</td>\n",
       "      <td>91335.000000</td>\n",
       "      <td>91335.000000</td>\n",
       "      <td>9.133500e+04</td>\n",
       "      <td>91335.000000</td>\n",
       "      <td>91323.000000</td>\n",
       "      <td>91333.00000</td>\n",
       "      <td>91335.000000</td>\n",
       "      <td>91335.000000</td>\n",
       "    </tr>\n",
       "    <tr>\n",
       "      <th>mean</th>\n",
       "      <td>2.121818e+07</td>\n",
       "      <td>32898.381877</td>\n",
       "      <td>3.293232e+09</td>\n",
       "      <td>3.293385e+09</td>\n",
       "      <td>3.293191e+18</td>\n",
       "      <td>1.001336</td>\n",
       "      <td>587.534549</td>\n",
       "      <td>3.293207e+11</td>\n",
       "      <td>251.200482</td>\n",
       "      <td>428432.911085</td>\n",
       "      <td>28085.47698</td>\n",
       "      <td>127.487524</td>\n",
       "      <td>36.624711</td>\n",
       "    </tr>\n",
       "    <tr>\n",
       "      <th>std</th>\n",
       "      <td>5.042828e+06</td>\n",
       "      <td>12985.393171</td>\n",
       "      <td>1.297387e+09</td>\n",
       "      <td>1.297706e+09</td>\n",
       "      <td>1.297393e+18</td>\n",
       "      <td>0.036524</td>\n",
       "      <td>582.519364</td>\n",
       "      <td>1.297391e+11</td>\n",
       "      <td>477.456487</td>\n",
       "      <td>193292.339066</td>\n",
       "      <td>18909.01455</td>\n",
       "      <td>0.842877</td>\n",
       "      <td>1.041361</td>\n",
       "    </tr>\n",
       "    <tr>\n",
       "      <th>min</th>\n",
       "      <td>2.901108e+06</td>\n",
       "      <td>11110.000000</td>\n",
       "      <td>1.111052e+09</td>\n",
       "      <td>1.111010e+09</td>\n",
       "      <td>1.111010e+18</td>\n",
       "      <td>1.000000</td>\n",
       "      <td>1.000000</td>\n",
       "      <td>1.111020e+11</td>\n",
       "      <td>0.000000</td>\n",
       "      <td>100011.000000</td>\n",
       "      <td>1000.00000</td>\n",
       "      <td>124.717632</td>\n",
       "      <td>33.219290</td>\n",
       "    </tr>\n",
       "    <tr>\n",
       "      <th>25%</th>\n",
       "      <td>2.001931e+07</td>\n",
       "      <td>26350.000000</td>\n",
       "      <td>2.635065e+09</td>\n",
       "      <td>2.635011e+09</td>\n",
       "      <td>2.635011e+18</td>\n",
       "      <td>1.000000</td>\n",
       "      <td>162.000000</td>\n",
       "      <td>2.635042e+11</td>\n",
       "      <td>29.000000</td>\n",
       "      <td>302120.000000</td>\n",
       "      <td>11681.00000</td>\n",
       "      <td>126.914297</td>\n",
       "      <td>35.811830</td>\n",
       "    </tr>\n",
       "    <tr>\n",
       "      <th>50%</th>\n",
       "      <td>2.211900e+07</td>\n",
       "      <td>41117.000000</td>\n",
       "      <td>4.111758e+09</td>\n",
       "      <td>4.111710e+09</td>\n",
       "      <td>4.111711e+18</td>\n",
       "      <td>1.000000</td>\n",
       "      <td>462.000000</td>\n",
       "      <td>4.111743e+11</td>\n",
       "      <td>92.000000</td>\n",
       "      <td>440300.000000</td>\n",
       "      <td>24353.00000</td>\n",
       "      <td>127.084550</td>\n",
       "      <td>37.234652</td>\n",
       "    </tr>\n",
       "    <tr>\n",
       "      <th>75%</th>\n",
       "      <td>2.480984e+07</td>\n",
       "      <td>43113.000000</td>\n",
       "      <td>4.311370e+09</td>\n",
       "      <td>4.311311e+09</td>\n",
       "      <td>4.311311e+18</td>\n",
       "      <td>1.000000</td>\n",
       "      <td>858.000000</td>\n",
       "      <td>4.311332e+11</td>\n",
       "      <td>257.000000</td>\n",
       "      <td>602811.000000</td>\n",
       "      <td>46044.00000</td>\n",
       "      <td>128.108919</td>\n",
       "      <td>37.507463</td>\n",
       "    </tr>\n",
       "    <tr>\n",
       "      <th>max</th>\n",
       "      <td>2.852470e+07</td>\n",
       "      <td>50130.000000</td>\n",
       "      <td>5.013061e+09</td>\n",
       "      <td>5.013032e+09</td>\n",
       "      <td>5.013061e+18</td>\n",
       "      <td>2.000000</td>\n",
       "      <td>7338.000000</td>\n",
       "      <td>5.013049e+11</td>\n",
       "      <td>8795.000000</td>\n",
       "      <td>799801.000000</td>\n",
       "      <td>63643.00000</td>\n",
       "      <td>130.909912</td>\n",
       "      <td>38.499659</td>\n",
       "    </tr>\n",
       "  </tbody>\n",
       "</table>\n",
       "</div>"
      ],
      "text/plain": [
       "             상가업소번호         시군구코드         행정동코드         법정동코드          지번코드  \\\n",
       "count  9.133500e+04  90956.000000  9.133500e+04  9.128000e+04  9.133500e+04   \n",
       "mean   2.121818e+07  32898.381877  3.293232e+09  3.293385e+09  3.293191e+18   \n",
       "std    5.042828e+06  12985.393171  1.297387e+09  1.297706e+09  1.297393e+18   \n",
       "min    2.901108e+06  11110.000000  1.111052e+09  1.111010e+09  1.111010e+18   \n",
       "25%    2.001931e+07  26350.000000  2.635065e+09  2.635011e+09  2.635011e+18   \n",
       "50%    2.211900e+07  41117.000000  4.111758e+09  4.111710e+09  4.111711e+18   \n",
       "75%    2.480984e+07  43113.000000  4.311370e+09  4.311311e+09  4.311311e+18   \n",
       "max    2.852470e+07  50130.000000  5.013061e+09  5.013032e+09  5.013061e+18   \n",
       "\n",
       "             대지구분코드         지번본번지         도로명코드         건물본번지          구우편번호  \\\n",
       "count  91335.000000  91335.000000  9.133500e+04  91335.000000   91323.000000   \n",
       "mean       1.001336    587.534549  3.293207e+11    251.200482  428432.911085   \n",
       "std        0.036524    582.519364  1.297391e+11    477.456487  193292.339066   \n",
       "min        1.000000      1.000000  1.111020e+11      0.000000  100011.000000   \n",
       "25%        1.000000    162.000000  2.635042e+11     29.000000  302120.000000   \n",
       "50%        1.000000    462.000000  4.111743e+11     92.000000  440300.000000   \n",
       "75%        1.000000    858.000000  4.311332e+11    257.000000  602811.000000   \n",
       "max        2.000000   7338.000000  5.013049e+11   8795.000000  799801.000000   \n",
       "\n",
       "             신우편번호            경도            위도  \n",
       "count  91333.00000  91335.000000  91335.000000  \n",
       "mean   28085.47698    127.487524     36.624711  \n",
       "std    18909.01455      0.842877      1.041361  \n",
       "min     1000.00000    124.717632     33.219290  \n",
       "25%    11681.00000    126.914297     35.811830  \n",
       "50%    24353.00000    127.084550     37.234652  \n",
       "75%    46044.00000    128.108919     37.507463  \n",
       "max    63643.00000    130.909912     38.499659  "
      ]
     },
     "execution_count": 47,
     "metadata": {},
     "output_type": "execute_result"
    }
   ],
   "source": [
    "df.describe(include=\"number\")"
   ]
  },
  {
   "cell_type": "markdown",
   "metadata": {},
   "source": [
    "### 중복 제거한 값 보기\n",
    "unique로 중복을 제거한 값을 보고 nunique로 개수를 세어 봅니다."
   ]
  },
  {
   "cell_type": "code",
   "execution_count": 51,
   "metadata": {
    "ExecuteTime": {
     "end_time": "2021-02-23T06:30:57.050178Z",
     "start_time": "2021-02-23T06:30:57.028266Z"
    }
   },
   "outputs": [
    {
     "data": {
      "text/plain": [
       "array(['의료'], dtype=object)"
      ]
     },
     "execution_count": 51,
     "metadata": {},
     "output_type": "execute_result"
    }
   ],
   "source": [
    "# 상권업종대분류명\n",
    "df[\"상권업종대분류명\"].unique()"
   ]
  },
  {
   "cell_type": "code",
   "execution_count": 52,
   "metadata": {
    "ExecuteTime": {
     "end_time": "2021-02-23T06:31:02.228163Z",
     "start_time": "2021-02-23T06:31:02.204225Z"
    }
   },
   "outputs": [
    {
     "data": {
      "text/plain": [
       "1"
      ]
     },
     "execution_count": 52,
     "metadata": {},
     "output_type": "execute_result"
    }
   ],
   "source": [
    "df[\"상권업종대분류명\"].nunique()"
   ]
  },
  {
   "cell_type": "code",
   "execution_count": 53,
   "metadata": {
    "ExecuteTime": {
     "end_time": "2021-02-23T06:31:30.123083Z",
     "start_time": "2021-02-23T06:31:30.101117Z"
    }
   },
   "outputs": [
    {
     "data": {
      "text/plain": [
       "array(['병원', '약국/한약방', '수의업', '유사의료업', '의료관련서비스업'], dtype=object)"
      ]
     },
     "execution_count": 53,
     "metadata": {},
     "output_type": "execute_result"
    }
   ],
   "source": [
    "# 상권업종중분류명\n",
    "df[\"상권업종중분류명\"].unique()"
   ]
  },
  {
   "cell_type": "code",
   "execution_count": 54,
   "metadata": {
    "ExecuteTime": {
     "end_time": "2021-02-23T06:31:50.226159Z",
     "start_time": "2021-02-23T06:31:50.204222Z"
    }
   },
   "outputs": [
    {
     "data": {
      "text/plain": [
       "5"
      ]
     },
     "execution_count": 54,
     "metadata": {},
     "output_type": "execute_result"
    }
   ],
   "source": [
    "df[\"상권업종중분류명\"].nunique()"
   ]
  },
  {
   "cell_type": "code",
   "execution_count": 55,
   "metadata": {
    "ExecuteTime": {
     "end_time": "2021-02-23T06:32:50.034994Z",
     "start_time": "2021-02-23T06:32:50.013054Z"
    }
   },
   "outputs": [
    {
     "data": {
      "text/plain": [
       "array(['산부인과', '내과/외과', '신경외과', '기타병원', '약국', '동물병원', '한약방', '탕제원',\n",
       "       '정형/성형외과', '소아과', '이비인후과의원', '노인/치매병원', '언어치료', '수의업-종합', '한의원',\n",
       "       '치과의원', '침구원', '일반병원', '안과의원', '조산원', '한방병원', '종합병원', '유사의료업기타',\n",
       "       '응급구조대', '혈액원', '치과병원', '척추교정치료', '피부과', '비뇨기과', '치과기공소', '산후조리원',\n",
       "       '접골원', '수의업-기타', '제대혈'], dtype=object)"
      ]
     },
     "execution_count": 55,
     "metadata": {},
     "output_type": "execute_result"
    }
   ],
   "source": [
    "# 상권업종소분류명\n",
    "df[\"상권업종소분류명\"].unique()"
   ]
  },
  {
   "cell_type": "code",
   "execution_count": 56,
   "metadata": {
    "ExecuteTime": {
     "end_time": "2021-02-23T06:33:08.972870Z",
     "start_time": "2021-02-23T06:33:08.948908Z"
    }
   },
   "outputs": [
    {
     "data": {
      "text/plain": [
       "34"
      ]
     },
     "execution_count": 56,
     "metadata": {},
     "output_type": "execute_result"
    }
   ],
   "source": [
    "df[\"상권업종소분류명\"].nunique()"
   ]
  },
  {
   "cell_type": "markdown",
   "metadata": {},
   "source": [
    "### 그룹화된 요약값 보기 - value_counts\n",
    "value_counts를 사용하면 카테고리의 형태의 데이터 개수를 세어 볼수 있습니다."
   ]
  },
  {
   "cell_type": "code",
   "execution_count": 60,
   "metadata": {
    "ExecuteTime": {
     "end_time": "2021-02-23T06:40:05.422192Z",
     "start_time": "2021-02-23T06:40:05.398254Z"
    }
   },
   "outputs": [
    {
     "data": {
      "text/plain": [
       "경기도        21374\n",
       "서울특별시      18943\n",
       "부산광역시       6473\n",
       "경상남도        4973\n",
       "인천광역시       4722\n",
       "대구광역시       4597\n",
       "경상북도        4141\n",
       "전라북도        3894\n",
       "충청남도        3578\n",
       "전라남도        3224\n",
       "광주광역시       3214\n",
       "대전광역시       3067\n",
       "충청북도        2677\n",
       "강원도         2634\n",
       "울산광역시       1997\n",
       "제주특별자치도     1095\n",
       "세종특별자치시      353\n",
       "Name: 시도명, dtype: int64"
      ]
     },
     "execution_count": 60,
     "metadata": {},
     "output_type": "execute_result"
    }
   ],
   "source": [
    "# 시도명 코드를 세어 봅니다\n",
    "city = df[\"시도명\"].value_counts()\n",
    "city"
   ]
  },
  {
   "cell_type": "code",
   "execution_count": 61,
   "metadata": {
    "ExecuteTime": {
     "end_time": "2021-02-23T06:40:21.017092Z",
     "start_time": "2021-02-23T06:40:20.990166Z"
    },
    "scrolled": true
   },
   "outputs": [
    {
     "data": {
      "text/plain": [
       "경기도        0.234993\n",
       "서울특별시      0.208266\n",
       "부산광역시      0.071166\n",
       "경상남도       0.054675\n",
       "인천광역시      0.051915\n",
       "대구광역시      0.050541\n",
       "경상북도       0.045528\n",
       "전라북도       0.042812\n",
       "충청남도       0.039338\n",
       "전라남도       0.035446\n",
       "광주광역시      0.035336\n",
       "대전광역시      0.033720\n",
       "충청북도       0.029432\n",
       "강원도        0.028959\n",
       "울산광역시      0.021956\n",
       "제주특별자치도    0.012039\n",
       "세종특별자치시    0.003881\n",
       "Name: 시도명, dtype: float64"
      ]
     },
     "execution_count": 61,
     "metadata": {},
     "output_type": "execute_result"
    }
   ],
   "source": [
    "# normalize=True 옵션을 사용하면 비율을 구할 수 있습니다. \n",
    "city_normalize = df[\"시도명\"].value_counts(normalize=True)\n",
    "city_normalize"
   ]
  },
  {
   "cell_type": "code",
   "execution_count": 66,
   "metadata": {
    "ExecuteTime": {
     "end_time": "2021-02-23T06:50:29.817500Z",
     "start_time": "2021-02-23T06:50:29.791570Z"
    }
   },
   "outputs": [
    {
     "ename": "NameError",
     "evalue": "name 'rot' is not defined",
     "output_type": "error",
     "traceback": [
      "\u001b[1;31m---------------------------------------------------------------------------\u001b[0m",
      "\u001b[1;31mNameError\u001b[0m                                 Traceback (most recent call last)",
      "\u001b[1;32m<ipython-input-66-ddc190b508ef>\u001b[0m in \u001b[0;36m<module>\u001b[1;34m\u001b[0m\n\u001b[0;32m      2\u001b[0m \u001b[1;31m# 위에서 분석한 시도명 수를 막대그래프로 표현해 봅니다.\u001b[0m\u001b[1;33m\u001b[0m\u001b[1;33m\u001b[0m\u001b[1;33m\u001b[0m\u001b[0m\n\u001b[0;32m      3\u001b[0m \u001b[1;33m\u001b[0m\u001b[0m\n\u001b[1;32m----> 4\u001b[1;33m \u001b[0mcity\u001b[0m\u001b[1;33m.\u001b[0m\u001b[0mplot\u001b[0m\u001b[1;33m.\u001b[0m\u001b[0mbar\u001b[0m\u001b[1;33m(\u001b[0m\u001b[0mrot\u001b[0m\u001b[1;33m(\u001b[0m\u001b[1;36m3\u001b[0m\u001b[1;33m)\u001b[0m\u001b[1;33m,\u001b[0m \u001b[0mgrid\u001b[0m\u001b[1;33m=\u001b[0m\u001b[1;32mTrue\u001b[0m\u001b[1;33m)\u001b[0m\u001b[1;33m\u001b[0m\u001b[1;33m\u001b[0m\u001b[0m\n\u001b[0m",
      "\u001b[1;31mNameError\u001b[0m: name 'rot' is not defined"
     ]
    }
   ],
   "source": [
    "# Pandas 에는 plot 기능을 내장하고 있습니다 \n",
    "# 위에서 분석한 시도명 수를 막대그래프로 표현해 봅니다. \n",
    "\n",
    "city.plot.bar(grid=True)"
   ]
  },
  {
   "cell_type": "code",
   "execution_count": 64,
   "metadata": {
    "ExecuteTime": {
     "end_time": "2021-02-23T06:41:19.465692Z",
     "start_time": "2021-02-23T06:41:18.813934Z"
    }
   },
   "outputs": [
    {
     "data": {
      "text/plain": [
       "<AxesSubplot:ylabel='시도명'>"
      ]
     },
     "execution_count": 64,
     "metadata": {},
     "output_type": "execute_result"
    },
    {
     "data": {
      "image/png": "[encoded data removed]",
      "text/plain": [
       "<Figure size 504x504 with 1 Axes>"
      ]
     },
     "metadata": {
      "image/png": {
       "height": 394,
       "width": 467
      }
     },
     "output_type": "display_data"
    }
   ],
   "source": [
    "city.plot.pie(figsize=(7,7))"
   ]
  },
  {
   "cell_type": "code",
   "execution_count": 69,
   "metadata": {
    "ExecuteTime": {
     "end_time": "2021-02-23T06:54:00.631895Z",
     "start_time": "2021-02-23T06:54:00.104010Z"
    }
   },
   "outputs": [
    {
     "data": {
      "text/plain": [
       "<AxesSubplot:xlabel='시도명', ylabel='count'>"
      ]
     },
     "execution_count": 69,
     "metadata": {},
     "output_type": "execute_result"
    },
    {
     "data": {
      "image/png": "[encoded data removed]",
      "text/plain": [
       "<Figure size 432x288 with 1 Axes>"
      ]
     },
     "metadata": {
      "image/png": {
       "height": 263,
       "width": 423
      },
      "needs_background": "light"
     },
     "output_type": "display_data"
    }
   ],
   "source": [
    "#  seaborn의 countplot로 그려봅니다.\n",
    "\n",
    "sns.countplot(data=df, x=\"시도명\")"
   ]
  },
  {
   "cell_type": "code",
   "execution_count": 73,
   "metadata": {
    "ExecuteTime": {
     "end_time": "2021-02-23T06:55:52.845811Z",
     "start_time": "2021-02-23T06:55:52.471246Z"
    }
   },
   "outputs": [
    {
     "data": {
      "text/plain": [
       "<AxesSubplot:xlabel='count', ylabel='시도명'>"
      ]
     },
     "execution_count": 73,
     "metadata": {},
     "output_type": "execute_result"
    },
    {
     "data": {
      "image/png": "[encoded data removed]",
      "text/plain": [
       "<Figure size 432x288 with 1 Axes>"
      ]
     },
     "metadata": {
      "image/png": {
       "height": 263,
       "width": 440
      },
      "needs_background": "light"
     },
     "output_type": "display_data"
    }
   ],
   "source": [
    "sns.countplot(data=df, y=\"시도명\")"
   ]
  },
  {
   "cell_type": "code",
   "execution_count": 76,
   "metadata": {
    "ExecuteTime": {
     "end_time": "2021-02-23T06:57:04.582101Z",
     "start_time": "2021-02-23T06:57:04.255974Z"
    }
   },
   "outputs": [
    {
     "data": {
      "image/png": "[encoded data removed]",
      "text/plain": [
       "<Figure size 432x288 with 1 Axes>"
      ]
     },
     "metadata": {
      "image/png": {
       "height": 263,
       "width": 440
      },
      "needs_background": "light"
     },
     "output_type": "display_data"
    }
   ],
   "source": [
    "# 그래프 위 주석 제거, 변수에 담는다\n",
    "\n",
    "c = sns.countplot(data=df, y=\"시도명\")"
   ]
  },
  {
   "cell_type": "code",
   "execution_count": null,
   "metadata": {},
   "outputs": [],
   "source": []
  }
 ],
 "metadata": {
  "kernelspec": {
   "display_name": "Python 3",
   "language": "python",
   "name": "python3"
  },
  "language_info": {
   "codemirror_mode": {
    "name": "ipython",
    "version": 3
   },
   "file_extension": ".py",
   "mimetype": "text/x-python",
   "name": "python",
   "nbconvert_exporter": "python",
   "pygments_lexer": "ipython3",
   "version": "3.8.5"
  },
  "toc": {
   "base_numbering": 1,
   "nav_menu": {},
   "number_sections": true,
   "sideBar": true,
   "skip_h1_title": false,
   "title_cell": "Table of Contents",
   "title_sidebar": "Contents",
   "toc_cell": false,
   "toc_position": {
    "height": "calc(100% - 180px)",
    "left": "10px",
    "top": "150px",
    "width": "165px"
   },
   "toc_section_display": true,
   "toc_window_display": true
  }
 },
 "nbformat": 4,
 "nbformat_minor": 4
}
